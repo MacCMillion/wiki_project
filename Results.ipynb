{
 "cells": [
  {
   "cell_type": "markdown",
   "metadata": {},
   "source": [
    "# Results"
   ]
  },
  {
   "cell_type": "code",
   "execution_count": 22,
   "metadata": {},
   "outputs": [
    {
     "name": "stdout",
     "output_type": "stream",
     "text": [
      "The autoreload extension is already loaded. To reload it, use:\n",
      "  %reload_ext autoreload\n"
     ]
    }
   ],
   "source": [
    "import pandas as pd \n",
    "import numpy as np\n",
    "from IPython.display import display, display_html\n",
    "%load_ext autoreload\n",
    "from pprint import pprint\n",
    "import matplotlib.pyplot as plt\n",
    "\n",
    "from scipy.stats import median_test\n"
   ]
  },
  {
   "cell_type": "code",
   "execution_count": 23,
   "metadata": {},
   "outputs": [],
   "source": [
    "def display_side_by_side(*args):\n",
    "    html_str=''\n",
    "    for df in args:\n",
    "        html_str+=df.to_html()\n",
    "    display_html(html_str.replace('table','table style=\"display:inline\"'),raw=True)"
   ]
  },
  {
   "cell_type": "code",
   "execution_count": 24,
   "metadata": {},
   "outputs": [],
   "source": [
    "with open('./res/revisions_FAC.csv', 'r') as file:\n",
    "    date_cols_0 = [col for col in file.readline().strip().split(';') if 'date' in col]\n",
    "with open('./res/FAC_merged.csv', 'r') as file:\n",
    "    date_cols_1 = [col for col in file.readline().strip().split(';') if 'date' in col]\n",
    "\n",
    "\n"
   ]
  },
  {
   "cell_type": "code",
   "execution_count": 25,
   "metadata": {},
   "outputs": [
    {
     "name": "stdout",
     "output_type": "stream",
     "text": [
      "We were able to sucessfully retriev information on 5152 sucessfull and 3743 unsucessfull nominations.\n",
      "Index(['title', 'edits_before', 'authors_before', 'edits_after',\n",
      "       'authors_after', 'idx', 'date_nomination', 'date_last_comment',\n",
      "       'has_duplicate', 'dates', 'end_date', 'start_date', 'edits_2w_later',\n",
      "       'authors_2w_later', 'Unnamed: 3', 'nomination_period'],\n",
      "      dtype='object')\n"
     ]
    }
   ],
   "source": [
    "df_FAC = pd.merge(\n",
    "    pd.read_csv('./res/revisions_FAC.csv', sep=';', index_col=0, parse_dates=date_cols_0),\n",
    "    pd.read_csv('./res/FAC_merged.csv', sep=';', index_col=0, parse_dates=date_cols_1),\n",
    "    on='title')\n",
    "df_FAC = pd.merge(\n",
    "    df_FAC, pd.read_csv('./res/revisions_FAC_2w.csv', sep=';', index_col=0),\n",
    "    on='title')\n",
    "\n",
    "df_FAC['nomination_period'] = df_FAC['end_date'] - df_FAC['date_nomination']\n",
    "\n",
    "df_FA = pd.merge(pd.read_csv('./res/revisions_FA.csv', sep=';', index_col=0, parse_dates=date_cols_0),\n",
    "                  pd.read_csv('./res/FA_merged.csv', sep=';', index_col=0, parse_dates=date_cols_1),\n",
    "                  on= 'title')\n",
    "df_FA = pd.merge(\n",
    "    df_FA, pd.read_csv('./res/revisions_FA_2w.csv', sep=';', index_col=0),\n",
    "    on='title')\n",
    "\n",
    "df_FA['nomination_period'] = df_FA['end_date'] - df_FA['date_nomination']\n",
    "\n",
    "print(f'We were able to sucessfully retriev information on {df_FA.shape[0]} sucessfull and {df_FAC.shape[0]} unsucessfull nominations.')\n",
    "\n",
    "d = df_FA.nomination_period.mean()\n",
    "print(df_FAC.columns)"
   ]
  },
  {
   "cell_type": "markdown",
   "metadata": {},
   "source": [
    "## Erroneous Nomination Periods\n",
    "\n",
    "If we look at the nomination periods, it becomes clear that some were not correctly recorded. This becomes obvious when taking a look at the longest nomination periods. The reason for this is that we decided to use the earliest and latest comments in determining the nomination period. Which can lead to errors, upon manually inspecting the discussions of the suspicious records, I found the following reasons for incorrect records:\n",
    "* references to prior or future nominations\n",
    "* copied discussions for example from peer reviews or article talk pages\n",
    "* comments outside the nomination period \n",
    "\n",
    "Particularly the last case is fairly common. It seems like the comments were added when the article was already archived. For more recent nominations I was able to confirm this from the edit history of the archives. For a small number of older articles I consulted the revision history of the Featured Article Discussion. I opted to removed all questionable observations I could find. The phenomena is very common in the years 2005 or 2006. I excluded these years from my analysis. Additional articles were removed after inspection. The results of this inspection are documented in res/article_inspection.txt."
   ]
  },
  {
   "cell_type": "code",
   "execution_count": 26,
   "metadata": {},
   "outputs": [
    {
     "name": "stdout",
     "output_type": "stream",
     "text": [
      "We dropped 983 successful and 1292 unsuccessful nominationas (4169 / 2451 remaining)\n"
     ]
    }
   ],
   "source": [
    "n_FA = len(df_FA)\n",
    "n_FAC = len(df_FAC)\n",
    "\n",
    "df_FA= df_FA.loc[df_FA.date_nomination >= np.datetime64('2007-01-01')]\n",
    "df_FAC= df_FAC.loc[df_FAC.date_nomination >= np.datetime64('2007-01-01')]\n",
    "\n",
    "remove_FA = ['Cretaceous–Tertiary extinction event', 'M-theory', 'Beijing opera', 'Columbian mammoth', 'Elvis Presley',\n",
    "'Baron Munchausen', 'Blue men of the Minch', 'Amphetamine', 'Meshuggah', 'John J. Crittenden']\n",
    "remove_FAC = ['Vector space', 'Ecology', 'Menominee Tribe v. United States', 'Sesame Street research', 'History of KFC',\n",
    "              'Ravenloft (module)', 'David Falk', '1997 Michigan Wolverines football team', 'God of War (video game)']\n",
    "\n",
    "df_FAC =df_FAC[~df_FAC.title.isin(remove_FAC)]\n",
    "df_FA =df_FA[~df_FA.title.isin(remove_FA)]\n",
    "n_FA2 = len(df_FA)\n",
    "n_FAC2 = len(df_FAC)\n",
    "print(f'We dropped {n_FA-n_FA2} successful and {n_FAC-n_FAC2} unsuccessful nominationas ({n_FA2} / {n_FAC2} remaining)')"
   ]
  },
  {
   "cell_type": "code",
   "execution_count": 27,
   "metadata": {},
   "outputs": [],
   "source": [
    "#df_FA_red.loc[df_FA_red.nomination_period.nlargest(30).index, ['title', 'nomination_period', 'date_nomination', 'date_last_comment', 'end_date']]\n",
    "#df_FAC_red.loc[df_FAC_red.nomination_period.nlargest(30).index, ['title', 'nomination_period', 'date_nomination', 'date_last_comment', 'end_date']]"
   ]
  },
  {
   "cell_type": "markdown",
   "metadata": {},
   "source": [
    "## Nomination Periods"
   ]
  },
  {
   "cell_type": "code",
   "execution_count": 28,
   "metadata": {},
   "outputs": [
    {
     "data": {
      "text/html": [
       "<div>\n",
       "<style scoped>\n",
       "    .dataframe tbody tr th:only-of-type {\n",
       "        vertical-align: middle;\n",
       "    }\n",
       "\n",
       "    .dataframe tbody tr th {\n",
       "        vertical-align: top;\n",
       "    }\n",
       "\n",
       "    .dataframe thead th {\n",
       "        text-align: right;\n",
       "    }\n",
       "</style>\n",
       "<table border=\"1\" class=\"dataframe\">\n",
       "  <thead>\n",
       "    <tr style=\"text-align: right;\">\n",
       "      <th></th>\n",
       "      <th>Unsuccessful</th>\n",
       "      <th>Successful</th>\n",
       "    </tr>\n",
       "  </thead>\n",
       "  <tbody>\n",
       "    <tr>\n",
       "      <th>count</th>\n",
       "      <td>2451</td>\n",
       "      <td>4169</td>\n",
       "    </tr>\n",
       "    <tr>\n",
       "      <th>mean</th>\n",
       "      <td>16 days 16:42:06.722154</td>\n",
       "      <td>23 days 07:10:50.858239</td>\n",
       "    </tr>\n",
       "    <tr>\n",
       "      <th>std</th>\n",
       "      <td>14 days 10:18:24.233626</td>\n",
       "      <td>16 days 11:25:42.793709</td>\n",
       "    </tr>\n",
       "    <tr>\n",
       "      <th>min</th>\n",
       "      <td>0 days 00:07:00</td>\n",
       "      <td>1 days 01:30:00</td>\n",
       "    </tr>\n",
       "    <tr>\n",
       "      <th>25%</th>\n",
       "      <td>5 days 16:38:00</td>\n",
       "      <td>10 days 13:43:37</td>\n",
       "    </tr>\n",
       "    <tr>\n",
       "      <th>50%</th>\n",
       "      <td>12 days 20:51:59</td>\n",
       "      <td>18 days 22:38:04</td>\n",
       "    </tr>\n",
       "    <tr>\n",
       "      <th>75%</th>\n",
       "      <td>23 days 06:18:35.500000</td>\n",
       "      <td>31 days 16:27:00</td>\n",
       "    </tr>\n",
       "    <tr>\n",
       "      <th>max</th>\n",
       "      <td>94 days 09:00:39</td>\n",
       "      <td>155 days 10:11:40</td>\n",
       "    </tr>\n",
       "  </tbody>\n",
       "</table>\n",
       "</div>"
      ],
      "text/plain": [
       "                  Unsuccessful               Successful\n",
       "count                     2451                     4169\n",
       "mean   16 days 16:42:06.722154  23 days 07:10:50.858239\n",
       "std    14 days 10:18:24.233626  16 days 11:25:42.793709\n",
       "min            0 days 00:07:00          1 days 01:30:00\n",
       "25%            5 days 16:38:00         10 days 13:43:37\n",
       "50%           12 days 20:51:59         18 days 22:38:04\n",
       "75%    23 days 06:18:35.500000         31 days 16:27:00\n",
       "max           94 days 09:00:39        155 days 10:11:40"
      ]
     },
     "execution_count": 28,
     "metadata": {},
     "output_type": "execute_result"
    }
   ],
   "source": [
    "sum_nomination = pd.DataFrame([df_FAC.nomination_period.describe(), df_FA.nomination_period.describe()]).T\n",
    "sum_nomination.columns = ['Unsuccessful', 'Successful']\n",
    "sum_nomination"
   ]
  },
  {
   "cell_type": "markdown",
   "metadata": {},
   "source": [
    "In general we find that successful nominations are remain on the discussion page for a longer time. This is to be expected. If we take a look at the shortest unsuccessful nomination, we find nominations with few sources or lacking license information on the pictures. In such a case when it is obvious that an article does not fulfill the Featured Article Criteria, decisions are made swiftly. However, to promote an article there needs to be some time for potential critiques to respond. The shortest successful nominations took at least 2 days. The one exception (M-553, 1 day 1:30) is unusual because it was unsuccessfully nominated 3 day prior."
   ]
  },
  {
   "cell_type": "code",
   "execution_count": 29,
   "metadata": {},
   "outputs": [],
   "source": [
    "# By uncommenting these statements you can inspect the smallest an longest observation periods\n",
    "# n = 5\n",
    "#df_FA.loc[df_FA.nomination_period.nsmallest(n).index, ['title', 'date_nomination', 'end_date', 'nomination_period']]\n",
    "#df_FAC.loc[df_FAC.nomination_period.nsmallest(n).index, ['title', 'date_nomination', 'end_date','nomination_period']]\n",
    "#df_FA.loc[df_FA.nomination_period.nlargest(n).index, ['title', 'date_nomination', 'end_date', 'nomination_period']]\n",
    "#df_FAC.loc[df_FAC.nomination_period.nlargest(n).index, ['title', 'date_nomination', 'end_date', 'nomination_period']]\n"
   ]
  },
  {
   "cell_type": "code",
   "execution_count": 30,
   "metadata": {},
   "outputs": [],
   "source": [
    "# You can remap the summary tables again, for easy row access using\n",
    "# summary_FA_edits.rename(index=label_dict_edits)"
   ]
  },
  {
   "cell_type": "markdown",
   "metadata": {},
   "source": [
    "## Edits"
   ]
  },
  {
   "cell_type": "code",
   "execution_count": 31,
   "metadata": {},
   "outputs": [
    {
     "name": "stdout",
     "output_type": "stream",
     "text": [
      "Unscuccessful Nominations\n"
     ]
    },
    {
     "data": {
      "text/html": [
       "<style  type=\"text/css\" >\n",
       "</style><table id=\"T_851828f8_5a0b_11e9_905d_ad1ff1acf24a\" ><thead>    <tr>        <th class=\"blank level0\" ></th>        <th class=\"col_heading level0 col0\" >mean</th>        <th class=\"col_heading level0 col1\" >std</th>        <th class=\"col_heading level0 col2\" >min</th>        <th class=\"col_heading level0 col3\" >25%</th>        <th class=\"col_heading level0 col4\" >50%</th>        <th class=\"col_heading level0 col5\" >75%</th>        <th class=\"col_heading level0 col6\" >max</th>        <th class=\"col_heading level0 col7\" >kurtosis</th>        <th class=\"col_heading level0 col8\" >skewness</th>    </tr></thead><tbody>\n",
       "                <tr>\n",
       "                        <th id=\"T_851828f8_5a0b_11e9_905d_ad1ff1acf24alevel0_row0\" class=\"row_heading level0 row0\" >Before Nom.</th>\n",
       "                        <td id=\"T_851828f8_5a0b_11e9_905d_ad1ff1acf24arow0_col0\" class=\"data row0 col0\" >35.67</td>\n",
       "                        <td id=\"T_851828f8_5a0b_11e9_905d_ad1ff1acf24arow0_col1\" class=\"data row0 col1\" >63.11</td>\n",
       "                        <td id=\"T_851828f8_5a0b_11e9_905d_ad1ff1acf24arow0_col2\" class=\"data row0 col2\" >0.00</td>\n",
       "                        <td id=\"T_851828f8_5a0b_11e9_905d_ad1ff1acf24arow0_col3\" class=\"data row0 col3\" >3.00</td>\n",
       "                        <td id=\"T_851828f8_5a0b_11e9_905d_ad1ff1acf24arow0_col4\" class=\"data row0 col4\" >15.00</td>\n",
       "                        <td id=\"T_851828f8_5a0b_11e9_905d_ad1ff1acf24arow0_col5\" class=\"data row0 col5\" >43.50</td>\n",
       "                        <td id=\"T_851828f8_5a0b_11e9_905d_ad1ff1acf24arow0_col6\" class=\"data row0 col6\" >1095.00</td>\n",
       "                        <td id=\"T_851828f8_5a0b_11e9_905d_ad1ff1acf24arow0_col7\" class=\"data row0 col7\" >59.67</td>\n",
       "                        <td id=\"T_851828f8_5a0b_11e9_905d_ad1ff1acf24arow0_col8\" class=\"data row0 col8\" >5.76</td>\n",
       "            </tr>\n",
       "            <tr>\n",
       "                        <th id=\"T_851828f8_5a0b_11e9_905d_ad1ff1acf24alevel0_row1\" class=\"row_heading level0 row1\" >During Nom.</th>\n",
       "                        <td id=\"T_851828f8_5a0b_11e9_905d_ad1ff1acf24arow1_col0\" class=\"data row1 col0\" >52.00</td>\n",
       "                        <td id=\"T_851828f8_5a0b_11e9_905d_ad1ff1acf24arow1_col1\" class=\"data row1 col1\" >82.40</td>\n",
       "                        <td id=\"T_851828f8_5a0b_11e9_905d_ad1ff1acf24arow1_col2\" class=\"data row1 col2\" >0.00</td>\n",
       "                        <td id=\"T_851828f8_5a0b_11e9_905d_ad1ff1acf24arow1_col3\" class=\"data row1 col3\" >6.00</td>\n",
       "                        <td id=\"T_851828f8_5a0b_11e9_905d_ad1ff1acf24arow1_col4\" class=\"data row1 col4\" >26.00</td>\n",
       "                        <td id=\"T_851828f8_5a0b_11e9_905d_ad1ff1acf24arow1_col5\" class=\"data row1 col5\" >63.00</td>\n",
       "                        <td id=\"T_851828f8_5a0b_11e9_905d_ad1ff1acf24arow1_col6\" class=\"data row1 col6\" >1143.00</td>\n",
       "                        <td id=\"T_851828f8_5a0b_11e9_905d_ad1ff1acf24arow1_col7\" class=\"data row1 col7\" >40.51</td>\n",
       "                        <td id=\"T_851828f8_5a0b_11e9_905d_ad1ff1acf24arow1_col8\" class=\"data row1 col8\" >4.85</td>\n",
       "            </tr>\n",
       "            <tr>\n",
       "                        <th id=\"T_851828f8_5a0b_11e9_905d_ad1ff1acf24alevel0_row2\" class=\"row_heading level0 row2\" >Edit Intensity</th>\n",
       "                        <td id=\"T_851828f8_5a0b_11e9_905d_ad1ff1acf24arow2_col0\" class=\"data row2 col0\" >73.50</td>\n",
       "                        <td id=\"T_851828f8_5a0b_11e9_905d_ad1ff1acf24arow2_col1\" class=\"data row2 col1\" >167.22</td>\n",
       "                        <td id=\"T_851828f8_5a0b_11e9_905d_ad1ff1acf24arow2_col2\" class=\"data row2 col2\" >0.00</td>\n",
       "                        <td id=\"T_851828f8_5a0b_11e9_905d_ad1ff1acf24arow2_col3\" class=\"data row2 col3\" >8.91</td>\n",
       "                        <td id=\"T_851828f8_5a0b_11e9_905d_ad1ff1acf24arow2_col4\" class=\"data row2 col4\" >31.36</td>\n",
       "                        <td id=\"T_851828f8_5a0b_11e9_905d_ad1ff1acf24arow2_col5\" class=\"data row2 col5\" >75.06</td>\n",
       "                        <td id=\"T_851828f8_5a0b_11e9_905d_ad1ff1acf24arow2_col6\" class=\"data row2 col6\" >2880.00</td>\n",
       "                        <td id=\"T_851828f8_5a0b_11e9_905d_ad1ff1acf24arow2_col7\" class=\"data row2 col7\" >110.91</td>\n",
       "                        <td id=\"T_851828f8_5a0b_11e9_905d_ad1ff1acf24arow2_col8\" class=\"data row2 col8\" >8.91</td>\n",
       "            </tr>\n",
       "            <tr>\n",
       "                        <th id=\"T_851828f8_5a0b_11e9_905d_ad1ff1acf24alevel0_row3\" class=\"row_heading level0 row3\" >After Nom.</th>\n",
       "                        <td id=\"T_851828f8_5a0b_11e9_905d_ad1ff1acf24arow3_col0\" class=\"data row3 col0\" >20.12</td>\n",
       "                        <td id=\"T_851828f8_5a0b_11e9_905d_ad1ff1acf24arow3_col1\" class=\"data row3 col1\" >43.08</td>\n",
       "                        <td id=\"T_851828f8_5a0b_11e9_905d_ad1ff1acf24arow3_col2\" class=\"data row3 col2\" >0.00</td>\n",
       "                        <td id=\"T_851828f8_5a0b_11e9_905d_ad1ff1acf24arow3_col3\" class=\"data row3 col3\" >0.00</td>\n",
       "                        <td id=\"T_851828f8_5a0b_11e9_905d_ad1ff1acf24arow3_col4\" class=\"data row3 col4\" >5.00</td>\n",
       "                        <td id=\"T_851828f8_5a0b_11e9_905d_ad1ff1acf24arow3_col5\" class=\"data row3 col5\" >21.00</td>\n",
       "                        <td id=\"T_851828f8_5a0b_11e9_905d_ad1ff1acf24arow3_col6\" class=\"data row3 col6\" >549.00</td>\n",
       "                        <td id=\"T_851828f8_5a0b_11e9_905d_ad1ff1acf24arow3_col7\" class=\"data row3 col7\" >34.07</td>\n",
       "                        <td id=\"T_851828f8_5a0b_11e9_905d_ad1ff1acf24arow3_col8\" class=\"data row3 col8\" >4.96</td>\n",
       "            </tr>\n",
       "    </tbody></table>"
      ],
      "text/plain": [
       "<pandas.io.formats.style.Styler at 0x7fb8bdd1e390>"
      ]
     },
     "metadata": {},
     "output_type": "display_data"
    },
    {
     "name": "stdout",
     "output_type": "stream",
     "text": [
      "\n",
      "\n",
      "\n",
      "Successful Nominations\n"
     ]
    },
    {
     "data": {
      "text/html": [
       "<style  type=\"text/css\" >\n",
       "</style><table id=\"T_85190318_5a0b_11e9_905d_ad1ff1acf24a\" ><thead>    <tr>        <th class=\"blank level0\" ></th>        <th class=\"col_heading level0 col0\" >mean</th>        <th class=\"col_heading level0 col1\" >std</th>        <th class=\"col_heading level0 col2\" >min</th>        <th class=\"col_heading level0 col3\" >25%</th>        <th class=\"col_heading level0 col4\" >50%</th>        <th class=\"col_heading level0 col5\" >75%</th>        <th class=\"col_heading level0 col6\" >max</th>        <th class=\"col_heading level0 col7\" >kurtosis</th>        <th class=\"col_heading level0 col8\" >skewness</th>    </tr></thead><tbody>\n",
       "                <tr>\n",
       "                        <th id=\"T_85190318_5a0b_11e9_905d_ad1ff1acf24alevel0_row0\" class=\"row_heading level0 row0\" >Before Nom.</th>\n",
       "                        <td id=\"T_85190318_5a0b_11e9_905d_ad1ff1acf24arow0_col0\" class=\"data row0 col0\" >46.16</td>\n",
       "                        <td id=\"T_85190318_5a0b_11e9_905d_ad1ff1acf24arow0_col1\" class=\"data row0 col1\" >71.51</td>\n",
       "                        <td id=\"T_85190318_5a0b_11e9_905d_ad1ff1acf24arow0_col2\" class=\"data row0 col2\" >0.00</td>\n",
       "                        <td id=\"T_85190318_5a0b_11e9_905d_ad1ff1acf24arow0_col3\" class=\"data row0 col3\" >3.00</td>\n",
       "                        <td id=\"T_85190318_5a0b_11e9_905d_ad1ff1acf24arow0_col4\" class=\"data row0 col4\" >18.00</td>\n",
       "                        <td id=\"T_85190318_5a0b_11e9_905d_ad1ff1acf24arow0_col5\" class=\"data row0 col5\" >58.00</td>\n",
       "                        <td id=\"T_85190318_5a0b_11e9_905d_ad1ff1acf24arow0_col6\" class=\"data row0 col6\" >947.00</td>\n",
       "                        <td id=\"T_85190318_5a0b_11e9_905d_ad1ff1acf24arow0_col7\" class=\"data row0 col7\" >17.49</td>\n",
       "                        <td id=\"T_85190318_5a0b_11e9_905d_ad1ff1acf24arow0_col8\" class=\"data row0 col8\" >3.25</td>\n",
       "            </tr>\n",
       "            <tr>\n",
       "                        <th id=\"T_85190318_5a0b_11e9_905d_ad1ff1acf24alevel0_row1\" class=\"row_heading level0 row1\" >During Nom.</th>\n",
       "                        <td id=\"T_85190318_5a0b_11e9_905d_ad1ff1acf24arow1_col0\" class=\"data row1 col0\" >75.56</td>\n",
       "                        <td id=\"T_85190318_5a0b_11e9_905d_ad1ff1acf24arow1_col1\" class=\"data row1 col1\" >97.76</td>\n",
       "                        <td id=\"T_85190318_5a0b_11e9_905d_ad1ff1acf24arow1_col2\" class=\"data row1 col2\" >0.00</td>\n",
       "                        <td id=\"T_85190318_5a0b_11e9_905d_ad1ff1acf24arow1_col3\" class=\"data row1 col3\" >20.00</td>\n",
       "                        <td id=\"T_85190318_5a0b_11e9_905d_ad1ff1acf24arow1_col4\" class=\"data row1 col4\" >46.00</td>\n",
       "                        <td id=\"T_85190318_5a0b_11e9_905d_ad1ff1acf24arow1_col5\" class=\"data row1 col5\" >93.00</td>\n",
       "                        <td id=\"T_85190318_5a0b_11e9_905d_ad1ff1acf24arow1_col6\" class=\"data row1 col6\" >1941.00</td>\n",
       "                        <td id=\"T_85190318_5a0b_11e9_905d_ad1ff1acf24arow1_col7\" class=\"data row1 col7\" >51.01</td>\n",
       "                        <td id=\"T_85190318_5a0b_11e9_905d_ad1ff1acf24arow1_col8\" class=\"data row1 col8\" >4.73</td>\n",
       "            </tr>\n",
       "            <tr>\n",
       "                        <th id=\"T_85190318_5a0b_11e9_905d_ad1ff1acf24alevel0_row2\" class=\"row_heading level0 row2\" >Edit Intensity</th>\n",
       "                        <td id=\"T_85190318_5a0b_11e9_905d_ad1ff1acf24arow2_col0\" class=\"data row2 col0\" >60.47</td>\n",
       "                        <td id=\"T_85190318_5a0b_11e9_905d_ad1ff1acf24arow2_col1\" class=\"data row2 col1\" >79.36</td>\n",
       "                        <td id=\"T_85190318_5a0b_11e9_905d_ad1ff1acf24arow2_col2\" class=\"data row2 col2\" >0.00</td>\n",
       "                        <td id=\"T_85190318_5a0b_11e9_905d_ad1ff1acf24arow2_col3\" class=\"data row2 col3\" >14.00</td>\n",
       "                        <td id=\"T_85190318_5a0b_11e9_905d_ad1ff1acf24arow2_col4\" class=\"data row2 col4\" >34.96</td>\n",
       "                        <td id=\"T_85190318_5a0b_11e9_905d_ad1ff1acf24arow2_col5\" class=\"data row2 col5\" >75.70</td>\n",
       "                        <td id=\"T_85190318_5a0b_11e9_905d_ad1ff1acf24arow2_col6\" class=\"data row2 col6\" >856.37</td>\n",
       "                        <td id=\"T_85190318_5a0b_11e9_905d_ad1ff1acf24arow2_col7\" class=\"data row2 col7\" >15.80</td>\n",
       "                        <td id=\"T_85190318_5a0b_11e9_905d_ad1ff1acf24arow2_col8\" class=\"data row2 col8\" >3.26</td>\n",
       "            </tr>\n",
       "            <tr>\n",
       "                        <th id=\"T_85190318_5a0b_11e9_905d_ad1ff1acf24alevel0_row3\" class=\"row_heading level0 row3\" >After Nom.</th>\n",
       "                        <td id=\"T_85190318_5a0b_11e9_905d_ad1ff1acf24arow3_col0\" class=\"data row3 col0\" >11.26</td>\n",
       "                        <td id=\"T_85190318_5a0b_11e9_905d_ad1ff1acf24arow3_col1\" class=\"data row3 col1\" >24.84</td>\n",
       "                        <td id=\"T_85190318_5a0b_11e9_905d_ad1ff1acf24arow3_col2\" class=\"data row3 col2\" >0.00</td>\n",
       "                        <td id=\"T_85190318_5a0b_11e9_905d_ad1ff1acf24arow3_col3\" class=\"data row3 col3\" >2.00</td>\n",
       "                        <td id=\"T_85190318_5a0b_11e9_905d_ad1ff1acf24arow3_col4\" class=\"data row3 col4\" >5.00</td>\n",
       "                        <td id=\"T_85190318_5a0b_11e9_905d_ad1ff1acf24arow3_col5\" class=\"data row3 col5\" >10.00</td>\n",
       "                        <td id=\"T_85190318_5a0b_11e9_905d_ad1ff1acf24arow3_col6\" class=\"data row3 col6\" >476.00</td>\n",
       "                        <td id=\"T_85190318_5a0b_11e9_905d_ad1ff1acf24arow3_col7\" class=\"data row3 col7\" >98.41</td>\n",
       "                        <td id=\"T_85190318_5a0b_11e9_905d_ad1ff1acf24arow3_col8\" class=\"data row3 col8\" >7.94</td>\n",
       "            </tr>\n",
       "    </tbody></table>"
      ],
      "text/plain": [
       "<pandas.io.formats.style.Styler at 0x7fb8e867f940>"
      ]
     },
     "metadata": {},
     "output_type": "display_data"
    }
   ],
   "source": [
    "# Claculate Edit intensity\n",
    "df_FAC['edits_p2w'] = df_FAC['edits_after']/(df_FAC['nomination_period']/np.timedelta64(2, 'W'))\n",
    "df_FA['edits_p2w'] = df_FA['edits_after']/(df_FA['nomination_period']/np.timedelta64(2, 'W'))\n",
    "\n",
    "summary_FAC_edits = pd.DataFrame([\n",
    "    df_FAC.edits_before.describe(),\n",
    "    df_FAC.edits_after.describe(),\n",
    "    df_FAC.edits_p2w.describe(),\n",
    "    df_FAC.edits_2w_later.describe()\n",
    "])\n",
    "\n",
    "summary_FA_edits = pd.DataFrame([\n",
    "    df_FA.edits_before.describe(),\n",
    "    df_FA.edits_after.describe(),\n",
    "    df_FA.edits_p2w.describe(),\n",
    "    df_FA.edits_2w_later.describe()\n",
    "])\n",
    "\n",
    "summary_FA_edits['kurtosis'] = [df_FA.edits_before.kurtosis(), df_FA.edits_after.kurtosis(), \n",
    "                                df_FA.edits_p2w.kurtosis(), df_FA.edits_2w_later.kurtosis()]\n",
    "summary_FA_edits['skewness'] = [df_FA.edits_before.skew(), df_FA.edits_after.skew(), \n",
    "                                 df_FA.edits_p2w.skew(), df_FA.edits_2w_later.skew()] \n",
    "summary_FAC_edits['kurtosis'] = [df_FAC.edits_before.kurtosis(), df_FAC.edits_after.kurtosis(), \n",
    "                                 df_FAC.edits_p2w.kurtosis(), df_FAC.edits_2w_later.kurtosis()]\n",
    "summary_FAC_edits['skewness'] = [df_FAC.edits_before.skew(), df_FAC.edits_after.skew(), \n",
    "                                 df_FAC.edits_p2w.skew(), df_FAC.edits_2w_later.skew()]\n",
    "\n",
    "\n",
    "summary_FA_edits.drop('count', axis=1, inplace=True)\n",
    "summary_FAC_edits.drop('count', axis=1, inplace=True)\n",
    "\n",
    "idx_labels = ['Before Nom.', 'During Nom.', 'Edit Intensity', 'After Nom.']\n",
    "\n",
    "label_dict_edits= {name: label for name, label in zip(summary_FAC_edits.index, idx_labels)}\n",
    "label_dict_edits_inv= {v:k for k,v in label_dict_edits.items()}\n",
    "summary_FA_edits.rename(index=label_dict_edits, inplace=True)\n",
    "summary_FAC_edits.rename(index=label_dict_edits, inplace=True)\n",
    "s1_edits = summary_FAC_edits.style.format({col: '{:.2f}' for col in summary_FA_edits.columns})\n",
    "s2_edits = summary_FA_edits.style.format({col: '{:.2f}' for col in summary_FAC_edits.columns})\n",
    "\n",
    "print('Unscuccessful Nominations')\n",
    "display(s1_edits)\n",
    "print('\\n\\n')\n",
    "\n",
    "print('Successful Nominations')\n",
    "display(s2_edits)"
   ]
  },
  {
   "cell_type": "markdown",
   "metadata": {},
   "source": [
    "We think it is important to point out that the number of edits is a flawed metric. It does not account for the magnitude of the change in the article. Whether a single typo was corrected or whether an additional section was written is neglected in a simple edit count. Differences in the edit count could also just be differences in working style, i.e. how oven an author saves his changes when editing an article. \n",
    "\n",
    "On average successful nominations receive a little more edits in the two weeks leading up to the nomination, compared to unsuccessful ones. The difference in the mean number of edits is however strongly driven by outliers. There is only a difference of 3 comparing their median. So it seems that there is little difference before the nomination.\n",
    "\n",
    "It is fairly obvious that the nomination process increases activity on an article. In both cases we see more edits during the nomination than before. During the nomination edits are made on successful nominations, so in absolute terms more work is expended on them. The problem with this comparison is that we do not take into account the differences in the nomination period. For successful nominations we record the edits for a longer time. For this reason we added an additional measurement, the number of edits per two weeks. We decided on this measure to also facilitated comparisons with the pre-nomination period. Comparing this metric the difference become more similar. The difference in mean as well as most quantiles becomes smaller. \n",
    "\n",
    "Finally we can see that after the nomination is closed, the interest in the article slows down. We observe the lowest number of edits in all observation periods. The effect is more profund on successful articles. This is reasonable, since Featured Articles are expected to be stable. It should however be noted that 50% of all featured articles recieve at least 5 changes in the 2 weeks after the nomination. Without more detailed inside into these change, we think it is futile to speculate whether these articles are truly stable. Many unsuccessful nominations are still frequently edited. It might be interesting to investigate how the activity develops over a longer time period."
   ]
  },
  {
   "cell_type": "code",
   "execution_count": 32,
   "metadata": {},
   "outputs": [
    {
     "name": "stdout",
     "output_type": "stream",
     "text": [
      "Unscuccessful Nominations\n"
     ]
    },
    {
     "data": {
      "text/html": [
       "<style  type=\"text/css\" >\n",
       "</style><table id=\"T_85538308_5a0b_11e9_905d_ad1ff1acf24a\" ><thead>    <tr>        <th class=\"blank level0\" ></th>        <th class=\"col_heading level0 col0\" >mean</th>        <th class=\"col_heading level0 col1\" >std</th>        <th class=\"col_heading level0 col2\" >min</th>        <th class=\"col_heading level0 col3\" >25%</th>        <th class=\"col_heading level0 col4\" >50%</th>        <th class=\"col_heading level0 col5\" >75%</th>        <th class=\"col_heading level0 col6\" >max</th>        <th class=\"col_heading level0 col7\" >kurtosis</th>        <th class=\"col_heading level0 col8\" >skewness</th>    </tr></thead><tbody>\n",
       "                <tr>\n",
       "                        <th id=\"T_85538308_5a0b_11e9_905d_ad1ff1acf24alevel0_row0\" class=\"row_heading level0 row0\" >Before Nom.</th>\n",
       "                        <td id=\"T_85538308_5a0b_11e9_905d_ad1ff1acf24arow0_col0\" class=\"data row0 col0\" >5.00</td>\n",
       "                        <td id=\"T_85538308_5a0b_11e9_905d_ad1ff1acf24arow0_col1\" class=\"data row0 col1\" >9.31</td>\n",
       "                        <td id=\"T_85538308_5a0b_11e9_905d_ad1ff1acf24arow0_col2\" class=\"data row0 col2\" >0.00</td>\n",
       "                        <td id=\"T_85538308_5a0b_11e9_905d_ad1ff1acf24arow0_col3\" class=\"data row0 col3\" >1.00</td>\n",
       "                        <td id=\"T_85538308_5a0b_11e9_905d_ad1ff1acf24arow0_col4\" class=\"data row0 col4\" >3.00</td>\n",
       "                        <td id=\"T_85538308_5a0b_11e9_905d_ad1ff1acf24arow0_col5\" class=\"data row0 col5\" >6.00</td>\n",
       "                        <td id=\"T_85538308_5a0b_11e9_905d_ad1ff1acf24arow0_col6\" class=\"data row0 col6\" >245.00</td>\n",
       "                        <td id=\"T_85538308_5a0b_11e9_905d_ad1ff1acf24arow0_col7\" class=\"data row0 col7\" >224.57</td>\n",
       "                        <td id=\"T_85538308_5a0b_11e9_905d_ad1ff1acf24arow0_col8\" class=\"data row0 col8\" >11.32</td>\n",
       "            </tr>\n",
       "            <tr>\n",
       "                        <th id=\"T_85538308_5a0b_11e9_905d_ad1ff1acf24alevel0_row1\" class=\"row_heading level0 row1\" >During Nom.</th>\n",
       "                        <td id=\"T_85538308_5a0b_11e9_905d_ad1ff1acf24arow1_col0\" class=\"data row1 col0\" >7.00</td>\n",
       "                        <td id=\"T_85538308_5a0b_11e9_905d_ad1ff1acf24arow1_col1\" class=\"data row1 col1\" >7.47</td>\n",
       "                        <td id=\"T_85538308_5a0b_11e9_905d_ad1ff1acf24arow1_col2\" class=\"data row1 col2\" >0.00</td>\n",
       "                        <td id=\"T_85538308_5a0b_11e9_905d_ad1ff1acf24arow1_col3\" class=\"data row1 col3\" >2.00</td>\n",
       "                        <td id=\"T_85538308_5a0b_11e9_905d_ad1ff1acf24arow1_col4\" class=\"data row1 col4\" >5.00</td>\n",
       "                        <td id=\"T_85538308_5a0b_11e9_905d_ad1ff1acf24arow1_col5\" class=\"data row1 col5\" >9.00</td>\n",
       "                        <td id=\"T_85538308_5a0b_11e9_905d_ad1ff1acf24arow1_col6\" class=\"data row1 col6\" >84.00</td>\n",
       "                        <td id=\"T_85538308_5a0b_11e9_905d_ad1ff1acf24arow1_col7\" class=\"data row1 col7\" >19.36</td>\n",
       "                        <td id=\"T_85538308_5a0b_11e9_905d_ad1ff1acf24arow1_col8\" class=\"data row1 col8\" >3.26</td>\n",
       "            </tr>\n",
       "            <tr>\n",
       "                        <th id=\"T_85538308_5a0b_11e9_905d_ad1ff1acf24alevel0_row2\" class=\"row_heading level0 row2\" >Author Intensity</th>\n",
       "                        <td id=\"T_85538308_5a0b_11e9_905d_ad1ff1acf24arow2_col0\" class=\"data row2 col0\" >15.01</td>\n",
       "                        <td id=\"T_85538308_5a0b_11e9_905d_ad1ff1acf24arow2_col1\" class=\"data row2 col1\" >73.71</td>\n",
       "                        <td id=\"T_85538308_5a0b_11e9_905d_ad1ff1acf24arow2_col2\" class=\"data row2 col2\" >0.00</td>\n",
       "                        <td id=\"T_85538308_5a0b_11e9_905d_ad1ff1acf24arow2_col3\" class=\"data row2 col3\" >2.45</td>\n",
       "                        <td id=\"T_85538308_5a0b_11e9_905d_ad1ff1acf24arow2_col4\" class=\"data row2 col4\" >5.92</td>\n",
       "                        <td id=\"T_85538308_5a0b_11e9_905d_ad1ff1acf24arow2_col5\" class=\"data row2 col5\" >13.03</td>\n",
       "                        <td id=\"T_85538308_5a0b_11e9_905d_ad1ff1acf24arow2_col6\" class=\"data row2 col6\" >2880.00</td>\n",
       "                        <td id=\"T_85538308_5a0b_11e9_905d_ad1ff1acf24arow2_col7\" class=\"data row2 col7\" >985.10</td>\n",
       "                        <td id=\"T_85538308_5a0b_11e9_905d_ad1ff1acf24arow2_col8\" class=\"data row2 col8\" >27.93</td>\n",
       "            </tr>\n",
       "            <tr>\n",
       "                        <th id=\"T_85538308_5a0b_11e9_905d_ad1ff1acf24alevel0_row3\" class=\"row_heading level0 row3\" >After Nom.</th>\n",
       "                        <td id=\"T_85538308_5a0b_11e9_905d_ad1ff1acf24arow3_col0\" class=\"data row3 col0\" >4.16</td>\n",
       "                        <td id=\"T_85538308_5a0b_11e9_905d_ad1ff1acf24arow3_col1\" class=\"data row3 col1\" >6.88</td>\n",
       "                        <td id=\"T_85538308_5a0b_11e9_905d_ad1ff1acf24arow3_col2\" class=\"data row3 col2\" >0.00</td>\n",
       "                        <td id=\"T_85538308_5a0b_11e9_905d_ad1ff1acf24arow3_col3\" class=\"data row3 col3\" >0.00</td>\n",
       "                        <td id=\"T_85538308_5a0b_11e9_905d_ad1ff1acf24arow3_col4\" class=\"data row3 col4\" >2.00</td>\n",
       "                        <td id=\"T_85538308_5a0b_11e9_905d_ad1ff1acf24arow3_col5\" class=\"data row3 col5\" >5.00</td>\n",
       "                        <td id=\"T_85538308_5a0b_11e9_905d_ad1ff1acf24arow3_col6\" class=\"data row3 col6\" >108.00</td>\n",
       "                        <td id=\"T_85538308_5a0b_11e9_905d_ad1ff1acf24arow3_col7\" class=\"data row3 col7\" >53.55</td>\n",
       "                        <td id=\"T_85538308_5a0b_11e9_905d_ad1ff1acf24arow3_col8\" class=\"data row3 col8\" >5.36</td>\n",
       "            </tr>\n",
       "    </tbody></table>"
      ],
      "text/plain": [
       "<pandas.io.formats.style.Styler at 0x7fb8bd7acd68>"
      ]
     },
     "metadata": {},
     "output_type": "display_data"
    },
    {
     "name": "stdout",
     "output_type": "stream",
     "text": [
      "\n",
      "\n",
      "\n",
      "Successful Nominations\n"
     ]
    },
    {
     "data": {
      "text/html": [
       "<style  type=\"text/css\" >\n",
       "</style><table id=\"T_85547ce0_5a0b_11e9_905d_ad1ff1acf24a\" ><thead>    <tr>        <th class=\"blank level0\" ></th>        <th class=\"col_heading level0 col0\" >mean</th>        <th class=\"col_heading level0 col1\" >std</th>        <th class=\"col_heading level0 col2\" >min</th>        <th class=\"col_heading level0 col3\" >25%</th>        <th class=\"col_heading level0 col4\" >50%</th>        <th class=\"col_heading level0 col5\" >75%</th>        <th class=\"col_heading level0 col6\" >max</th>        <th class=\"col_heading level0 col7\" >kurtosis</th>        <th class=\"col_heading level0 col8\" >skewness</th>    </tr></thead><tbody>\n",
       "                <tr>\n",
       "                        <th id=\"T_85547ce0_5a0b_11e9_905d_ad1ff1acf24alevel0_row0\" class=\"row_heading level0 row0\" >Before Nom.</th>\n",
       "                        <td id=\"T_85547ce0_5a0b_11e9_905d_ad1ff1acf24arow0_col0\" class=\"data row0 col0\" >3.93</td>\n",
       "                        <td id=\"T_85547ce0_5a0b_11e9_905d_ad1ff1acf24arow0_col1\" class=\"data row0 col1\" >5.05</td>\n",
       "                        <td id=\"T_85547ce0_5a0b_11e9_905d_ad1ff1acf24arow0_col2\" class=\"data row0 col2\" >0.00</td>\n",
       "                        <td id=\"T_85547ce0_5a0b_11e9_905d_ad1ff1acf24arow0_col3\" class=\"data row0 col3\" >1.00</td>\n",
       "                        <td id=\"T_85547ce0_5a0b_11e9_905d_ad1ff1acf24arow0_col4\" class=\"data row0 col4\" >3.00</td>\n",
       "                        <td id=\"T_85547ce0_5a0b_11e9_905d_ad1ff1acf24arow0_col5\" class=\"data row0 col5\" >5.00</td>\n",
       "                        <td id=\"T_85547ce0_5a0b_11e9_905d_ad1ff1acf24arow0_col6\" class=\"data row0 col6\" >85.00</td>\n",
       "                        <td id=\"T_85547ce0_5a0b_11e9_905d_ad1ff1acf24arow0_col7\" class=\"data row0 col7\" >41.03</td>\n",
       "                        <td id=\"T_85547ce0_5a0b_11e9_905d_ad1ff1acf24arow0_col8\" class=\"data row0 col8\" >4.68</td>\n",
       "            </tr>\n",
       "            <tr>\n",
       "                        <th id=\"T_85547ce0_5a0b_11e9_905d_ad1ff1acf24alevel0_row1\" class=\"row_heading level0 row1\" >During Nom.</th>\n",
       "                        <td id=\"T_85547ce0_5a0b_11e9_905d_ad1ff1acf24arow1_col0\" class=\"data row1 col0\" >8.69</td>\n",
       "                        <td id=\"T_85547ce0_5a0b_11e9_905d_ad1ff1acf24arow1_col1\" class=\"data row1 col1\" >7.44</td>\n",
       "                        <td id=\"T_85547ce0_5a0b_11e9_905d_ad1ff1acf24arow1_col2\" class=\"data row1 col2\" >0.00</td>\n",
       "                        <td id=\"T_85547ce0_5a0b_11e9_905d_ad1ff1acf24arow1_col3\" class=\"data row1 col3\" >5.00</td>\n",
       "                        <td id=\"T_85547ce0_5a0b_11e9_905d_ad1ff1acf24arow1_col4\" class=\"data row1 col4\" >7.00</td>\n",
       "                        <td id=\"T_85547ce0_5a0b_11e9_905d_ad1ff1acf24arow1_col5\" class=\"data row1 col5\" >11.00</td>\n",
       "                        <td id=\"T_85547ce0_5a0b_11e9_905d_ad1ff1acf24arow1_col6\" class=\"data row1 col6\" >130.00</td>\n",
       "                        <td id=\"T_85547ce0_5a0b_11e9_905d_ad1ff1acf24arow1_col7\" class=\"data row1 col7\" >28.89</td>\n",
       "                        <td id=\"T_85547ce0_5a0b_11e9_905d_ad1ff1acf24arow1_col8\" class=\"data row1 col8\" >3.44</td>\n",
       "            </tr>\n",
       "            <tr>\n",
       "                        <th id=\"T_85547ce0_5a0b_11e9_905d_ad1ff1acf24alevel0_row2\" class=\"row_heading level0 row2\" >Author Intensity</th>\n",
       "                        <td id=\"T_85547ce0_5a0b_11e9_905d_ad1ff1acf24arow2_col0\" class=\"data row2 col0\" >7.59</td>\n",
       "                        <td id=\"T_85547ce0_5a0b_11e9_905d_ad1ff1acf24arow2_col1\" class=\"data row2 col1\" >7.94</td>\n",
       "                        <td id=\"T_85547ce0_5a0b_11e9_905d_ad1ff1acf24arow2_col2\" class=\"data row2 col2\" >0.00</td>\n",
       "                        <td id=\"T_85547ce0_5a0b_11e9_905d_ad1ff1acf24arow2_col3\" class=\"data row2 col3\" >2.60</td>\n",
       "                        <td id=\"T_85547ce0_5a0b_11e9_905d_ad1ff1acf24arow2_col4\" class=\"data row2 col4\" >5.33</td>\n",
       "                        <td id=\"T_85547ce0_5a0b_11e9_905d_ad1ff1acf24arow2_col5\" class=\"data row2 col5\" >10.14</td>\n",
       "                        <td id=\"T_85547ce0_5a0b_11e9_905d_ad1ff1acf24arow2_col6\" class=\"data row2 col6\" >94.48</td>\n",
       "                        <td id=\"T_85547ce0_5a0b_11e9_905d_ad1ff1acf24arow2_col7\" class=\"data row2 col7\" >13.20</td>\n",
       "                        <td id=\"T_85547ce0_5a0b_11e9_905d_ad1ff1acf24arow2_col8\" class=\"data row2 col8\" >2.74</td>\n",
       "            </tr>\n",
       "            <tr>\n",
       "                        <th id=\"T_85547ce0_5a0b_11e9_905d_ad1ff1acf24alevel0_row3\" class=\"row_heading level0 row3\" >After Nom.</th>\n",
       "                        <td id=\"T_85547ce0_5a0b_11e9_905d_ad1ff1acf24arow3_col0\" class=\"data row3 col0\" >4.59</td>\n",
       "                        <td id=\"T_85547ce0_5a0b_11e9_905d_ad1ff1acf24arow3_col1\" class=\"data row3 col1\" >6.74</td>\n",
       "                        <td id=\"T_85547ce0_5a0b_11e9_905d_ad1ff1acf24arow3_col2\" class=\"data row3 col2\" >0.00</td>\n",
       "                        <td id=\"T_85547ce0_5a0b_11e9_905d_ad1ff1acf24arow3_col3\" class=\"data row3 col3\" >2.00</td>\n",
       "                        <td id=\"T_85547ce0_5a0b_11e9_905d_ad1ff1acf24arow3_col4\" class=\"data row3 col4\" >3.00</td>\n",
       "                        <td id=\"T_85547ce0_5a0b_11e9_905d_ad1ff1acf24arow3_col5\" class=\"data row3 col5\" >5.00</td>\n",
       "                        <td id=\"T_85547ce0_5a0b_11e9_905d_ad1ff1acf24arow3_col6\" class=\"data row3 col6\" >117.00</td>\n",
       "                        <td id=\"T_85547ce0_5a0b_11e9_905d_ad1ff1acf24arow3_col7\" class=\"data row3 col7\" >66.08</td>\n",
       "                        <td id=\"T_85547ce0_5a0b_11e9_905d_ad1ff1acf24arow3_col8\" class=\"data row3 col8\" >6.33</td>\n",
       "            </tr>\n",
       "    </tbody></table>"
      ],
      "text/plain": [
       "<pandas.io.formats.style.Styler at 0x7fb8bd10eef0>"
      ]
     },
     "metadata": {},
     "output_type": "display_data"
    }
   ],
   "source": [
    "df_FAC['authors_p2w'] = df_FAC['authors_after']/(df_FAC['nomination_period']/np.timedelta64(2, 'W'))\n",
    "df_FA['authors_p2w'] = df_FA['authors_after']/(df_FA['nomination_period']/np.timedelta64(2, 'W'))\n",
    "\n",
    "\n",
    "summary_FAC_authors = pd.DataFrame([\n",
    "    df_FAC.authors_before.describe(),\n",
    "    df_FAC.authors_after.describe(),\n",
    "    df_FAC.authors_p2w.describe(),\n",
    "    df_FAC.authors_2w_later.describe()\n",
    "])\n",
    "summary_FA_authors = pd.DataFrame([\n",
    "    df_FA.authors_before.describe(),\n",
    "    df_FA.authors_after.describe(),\n",
    "    df_FA.authors_p2w.describe(),\n",
    "    df_FA.authors_2w_later.describe()\n",
    "])\n",
    "\n",
    "summary_FA_authors['kurtosis'] = [df_FA.authors_before.kurtosis(), df_FA.authors_after.kurtosis(),\n",
    "                                  df_FA.authors_p2w.kurtosis(), df_FA.authors_2w_later.kurtosis()]\n",
    "summary_FA_authors['skewness'] = [df_FA.authors_before.skew(), df_FA.authors_after.skew(), \n",
    "                                  df_FA.authors_p2w.skew(), df_FA.authors_2w_later.skew()]\n",
    "summary_FAC_authors['kurtosis'] = [df_FAC.authors_before.kurtosis(), df_FAC.authors_after.kurtosis(),\n",
    "                                   df_FAC.authors_p2w.kurtosis(), df_FAC.authors_2w_later.kurtosis()]\n",
    "summary_FAC_authors['skewness'] = [df_FAC.authors_before.skew(), df_FAC.authors_after.skew(), \n",
    "                                   df_FAC.authors_p2w.skew(), df_FAC.authors_2w_later.skew()]\n",
    "\n",
    "summary_FAC_authors_no_outlier = df_FAC.loc[df_FAC.authors_before <= df_FAC.authors_before.quantile(0.995), ['authors_before', 'authors_after', 'authors_p2w']].describe().T\n",
    "summary_FAC_authors_no_outlier.drop('count', axis=1, inplace=True)\n",
    "\n",
    "summary_FA_authors_no_outlier = df_FA.loc[df_FA.authors_before <= df_FA.authors_before.quantile(0.995), ['authors_before', 'authors_after', 'authors_p2w']].describe().T\n",
    "summary_FA_authors_no_outlier.drop('count', axis=1, inplace=True)\n",
    "\n",
    "# Drop Redundant\n",
    "summary_FA_authors.drop('count', axis=1, inplace=True)\n",
    "summary_FAC_authors.drop('count', axis=1, inplace=True)\n",
    "\n",
    "# Styling\n",
    "idx_labels = ['Before Nom.', 'During Nom.', 'Author Intensity', 'After Nom.']\n",
    "label_dict = {name: label for name, label in zip(summary_FAC_authors.index, idx_labels)}\n",
    "summary_FA_authors.rename(index=label_dict, inplace=True)\n",
    "summary_FAC_authors.rename(index=label_dict, inplace=True)\n",
    "s1_a = summary_FAC_authors.style.format({col: '{:.2f}' for col in summary_FA_authors.columns})\n",
    "s2_a = summary_FA_authors.style.format({col: '{:.2f}' for col in summary_FAC_authors.columns})\n",
    "#s3_a = summary_FAC_authors_no_outlier.style.format({col: '{:.2f}' for col in summary_FAC_authors_no_outlier.columns})\n",
    "#s4_a = summary_FA_authors_no_outlier.style.format({col: '{:.2f}' for col in summary_FA_authors_no_outlier.columns})\n",
    "\n",
    "print('Unscuccessful Nominations')\n",
    "display(s1_a)\n",
    "print('\\n\\n')\n",
    "print('Successful Nominations')\n",
    "display(s2_a)\n"
   ]
  },
  {
   "cell_type": "markdown",
   "metadata": {},
   "source": [
    "We can see that the nomination also draws new contributers to the article. It is interesting to see that there is little difference between successful and unsuccessful nominations in terms of the number of contributers, before and after the nomination. So there is little difference in cooperation in the time leading to their nomination. Successful nominations however are able to attract more additional authors during the Featured Article Process. Again this can be somewhat attributed to their longer nomination period. Finally also see a to a similar number of people work on an article, before and after nomination. It would certainly be interesting to investigate whether these are the same editors. new"
   ]
  },
  {
   "cell_type": "code",
   "execution_count": null,
   "metadata": {},
   "outputs": [],
   "source": [
    "\n",
    "\n",
    "\n",
    "\n"
   ]
  },
  {
   "cell_type": "code",
   "execution_count": null,
   "metadata": {},
   "outputs": [],
   "source": [
    "\n"
   ]
  },
  {
   "cell_type": "code",
   "execution_count": null,
   "metadata": {},
   "outputs": [],
   "source": []
  },
  {
   "cell_type": "code",
   "execution_count": null,
   "metadata": {},
   "outputs": [],
   "source": []
  },
  {
   "cell_type": "code",
   "execution_count": null,
   "metadata": {},
   "outputs": [],
   "source": []
  },
  {
   "cell_type": "markdown",
   "metadata": {},
   "source": [
    "#### \"Inference...\""
   ]
  },
  {
   "cell_type": "code",
   "execution_count": 34,
   "metadata": {},
   "outputs": [
    {
     "name": "stdout",
     "output_type": "stream",
     "text": [
      "0.0008665492011884198 0.02859900840626778\n",
      "0.11063968554751881 0.004361599452682988\n"
     ]
    }
   ],
   "source": [
    "\n",
    "\n",
    "#median_test()\n",
    "summary_FA_edits.rename(index=label_dict_edits_inv, inplace=True)\n",
    "#summary_FA_edits.columns\n",
    "#print(summary_FA_edits.index)\n",
    "\n",
    "t_ed_before = median_test(df_FAC.edits_before, df_FA.edits_before)\n",
    "t_ed_p2w =median_test(df_FAC.edits_p2w, df_FA.edits_p2w)\n",
    "\n",
    "t_at_before= median_test(df_FAC.authors_before, df_FA.authors_before)\n",
    "t_at_p2w =median_test(df_FAC.authors_p2w, df_FA.authors_p2w)\n",
    "print(t_ed_before[1], t_ed_p2w[1]) # there must be a p-value somewhere\n",
    "print(t_at_before[1], t_at_p2w[1])"
   ]
  }
 ],
 "metadata": {
  "kernelspec": {
   "display_name": "Wiki Project",
   "language": "python",
   "name": "wiki_project"
  },
  "language_info": {
   "codemirror_mode": {
    "name": "ipython",
    "version": 3
   },
   "file_extension": ".py",
   "mimetype": "text/x-python",
   "name": "python",
   "nbconvert_exporter": "python",
   "pygments_lexer": "ipython3",
   "version": "3.7.2"
  }
 },
 "nbformat": 4,
 "nbformat_minor": 2
}
