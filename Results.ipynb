{
 "cells": [
  {
   "cell_type": "markdown",
   "metadata": {},
   "source": [
    "# Results"
   ]
  },
  {
   "cell_type": "code",
   "execution_count": 1,
   "metadata": {},
   "outputs": [],
   "source": [
    "import pandas as pd \n",
    "import numpy as np\n",
    "from IPython.display import display, display_html\n",
    "%load_ext autoreload\n",
    "from pprint import pprint\n",
    "import matplotlib.pyplot as plt"
   ]
  },
  {
   "cell_type": "code",
   "execution_count": 2,
   "metadata": {},
   "outputs": [],
   "source": [
    "def display_side_by_side(*args):\n",
    "    html_str=''\n",
    "    for df in args:\n",
    "        html_str+=df.to_html()\n",
    "    display_html(html_str.replace('table','table style=\"display:inline\"'),raw=True)"
   ]
  },
  {
   "cell_type": "code",
   "execution_count": 3,
   "metadata": {},
   "outputs": [],
   "source": [
    "with open('./res/revisions_FAC.csv', 'r') as file:\n",
    "    date_cols_0 = [col for col in file.readline().strip().split(';') if 'date' in col]\n",
    "with open('./res/FAC_merged.csv', 'r') as file:\n",
    "    date_cols_1 = [col for col in file.readline().strip().split(';') if 'date' in col]\n",
    "\n",
    "\n"
   ]
  },
  {
   "cell_type": "code",
   "execution_count": 15,
   "metadata": {},
   "outputs": [
    {
     "name": "stdout",
     "output_type": "stream",
     "text": [
      "We were able to sucessfully retriev information on 5152 sucessfull and 3743 unsucessfull nominations.\n"
     ]
    }
   ],
   "source": [
    "df_FAC = pd.merge(\n",
    "    pd.read_csv('./res/revisions_FAC.csv', sep=';', index_col=0, parse_dates=date_cols_0),\n",
    "    pd.read_csv('./res/FAC_merged.csv', sep=';', index_col=0, parse_dates=date_cols_1),\n",
    "    on='title')\n",
    "df_FAC['nomination_period'] = df_FAC['end_date'] - df_FAC['date_nomination']\n",
    "\n",
    "df_FA = pd.merge(pd.read_csv('./res/revisions_FA.csv', sep=';', index_col=0, parse_dates=date_cols_0),\n",
    "                  pd.read_csv('./res/FA_merged.csv', sep=';', index_col=0, parse_dates=date_cols_1),\n",
    "                  on= 'title')\n",
    "df_FA['nomination_period'] = df_FA['end_date'] - df_FA['date_nomination']\n",
    "\n",
    "print(f'We were able to sucessfully retriev information on {df_FA.shape[0]} sucessfull and {df_FAC.shape[0]} unsucessfull nominations.')\n",
    "\n",
    "d = df_FA.nomination_period.mean()\n"
   ]
  },
  {
   "cell_type": "markdown",
   "metadata": {},
   "source": [
    "## Erroneous Nomination Periods\n",
    "\n",
    "If we look at the nomination periods, it becomes clear that some were not correctly recorded. This becomes obvious when taking a look at the longest nomination periods. The reason for this is that we decided to use the earliest and latest comments in determining the nomination period. Which can lead to errors, upon manually inspecting the discussions of the suspicious records, I found the following reasons for incorrect records:\n",
    "* references to prior or future nominations\n",
    "* copied discussions for example from peer reviews or article talk pages\n",
    "* comments outside the nomination period \n",
    "\n",
    "Particularly the last case is fairly common. It seems like the comments were added when the article was already archived. For more recent nominations I was able to confirm this from the edit history of the archives. For a small number of older articles I consulted the revision history of the Featured Article Discussion. I opted to removed all questionable observations I could find. The phenomena is very common in the years 2005 or 2006. I excluded these years from my analysis. Additional articles were removed after inspection. The results of this inspection are documented in res/article_inspection.txt."
   ]
  },
  {
   "cell_type": "code",
   "execution_count": 16,
   "metadata": {},
   "outputs": [
    {
     "name": "stdout",
     "output_type": "stream",
     "text": [
      "We dropped 983 successful and 1292 nominationas (4169 / 2451 remaining)\n"
     ]
    }
   ],
   "source": [
    "n_FA = len(df_FA)\n",
    "n_FAC = len(df_FAC)\n",
    "\n",
    "df_FA= df_FA.loc[df_FA.date_nomination >= np.datetime64('2007-01-01')]\n",
    "df_FAC= df_FAC.loc[df_FAC.date_nomination >= np.datetime64('2007-01-01')]\n",
    "\n",
    "remove_FA = ['Cretaceous–Tertiary extinction event', 'M-theory', 'Beijing opera', 'Columbian mammoth', 'Elvis Presley',\n",
    "'Baron Munchausen', 'Blue men of the Minch', 'Amphetamine', 'Meshuggah', 'John J. Crittenden']\n",
    "remove_FAC = ['Vector space', 'Ecology', 'Menominee Tribe v. United States', 'Sesame Street research', 'History of KFC',\n",
    "              'Ravenloft (module)', 'David Falk', '1997 Michigan Wolverines football team', 'God of War (video game)']\n",
    "\n",
    "df_FAC =df_FAC[~df_FAC.title.isin(remove_FAC)]\n",
    "df_FA =df_FA[~df_FA.title.isin(remove_FA)]\n",
    "n_FA2 = len(df_FA)\n",
    "n_FAC2 = len(df_FAC)\n",
    "print(f'We dropped {n_FA-n_FA2} successful and {n_FAC-n_FAC2} nominationas ({n_FA2} / {n_FAC2} remaining)')"
   ]
  },
  {
   "cell_type": "code",
   "execution_count": 6,
   "metadata": {},
   "outputs": [],
   "source": [
    "#df_FA_red.loc[df_FA_red.nomination_period.nlargest(30).index, ['title', 'nomination_period', 'date_nomination', 'date_last_comment', 'end_date']]\n",
    "#df_FAC_red.loc[df_FAC_red.nomination_period.nlargest(30).index, ['title', 'nomination_period', 'date_nomination', 'date_last_comment', 'end_date']]"
   ]
  },
  {
   "cell_type": "markdown",
   "metadata": {},
   "source": [
    "## Nomination Periods"
   ]
  },
  {
   "cell_type": "code",
   "execution_count": 7,
   "metadata": {},
   "outputs": [
    {
     "data": {
      "text/html": [
       "<div>\n",
       "<style scoped>\n",
       "    .dataframe tbody tr th:only-of-type {\n",
       "        vertical-align: middle;\n",
       "    }\n",
       "\n",
       "    .dataframe tbody tr th {\n",
       "        vertical-align: top;\n",
       "    }\n",
       "\n",
       "    .dataframe thead th {\n",
       "        text-align: right;\n",
       "    }\n",
       "</style>\n",
       "<table border=\"1\" class=\"dataframe\">\n",
       "  <thead>\n",
       "    <tr style=\"text-align: right;\">\n",
       "      <th></th>\n",
       "      <th>unsuccessful</th>\n",
       "      <th>successful</th>\n",
       "    </tr>\n",
       "  </thead>\n",
       "  <tbody>\n",
       "    <tr>\n",
       "      <th>count</th>\n",
       "      <td>2451</td>\n",
       "      <td>4169</td>\n",
       "    </tr>\n",
       "    <tr>\n",
       "      <th>mean</th>\n",
       "      <td>16 days 16:42:06.722154</td>\n",
       "      <td>23 days 07:10:50.858239</td>\n",
       "    </tr>\n",
       "    <tr>\n",
       "      <th>std</th>\n",
       "      <td>14 days 10:18:24.233626</td>\n",
       "      <td>16 days 11:25:42.793709</td>\n",
       "    </tr>\n",
       "    <tr>\n",
       "      <th>min</th>\n",
       "      <td>0 days 00:07:00</td>\n",
       "      <td>1 days 01:30:00</td>\n",
       "    </tr>\n",
       "    <tr>\n",
       "      <th>25%</th>\n",
       "      <td>5 days 16:38:00</td>\n",
       "      <td>10 days 13:43:37</td>\n",
       "    </tr>\n",
       "    <tr>\n",
       "      <th>50%</th>\n",
       "      <td>12 days 20:51:59</td>\n",
       "      <td>18 days 22:38:04</td>\n",
       "    </tr>\n",
       "    <tr>\n",
       "      <th>75%</th>\n",
       "      <td>23 days 06:18:35.500000</td>\n",
       "      <td>31 days 16:27:00</td>\n",
       "    </tr>\n",
       "    <tr>\n",
       "      <th>max</th>\n",
       "      <td>94 days 09:00:39</td>\n",
       "      <td>155 days 10:11:40</td>\n",
       "    </tr>\n",
       "  </tbody>\n",
       "</table>\n",
       "</div>"
      ],
      "text/plain": [
       "                  unsuccessful               successful\n",
       "count                     2451                     4169\n",
       "mean   16 days 16:42:06.722154  23 days 07:10:50.858239\n",
       "std    14 days 10:18:24.233626  16 days 11:25:42.793709\n",
       "min            0 days 00:07:00          1 days 01:30:00\n",
       "25%            5 days 16:38:00         10 days 13:43:37\n",
       "50%           12 days 20:51:59         18 days 22:38:04\n",
       "75%    23 days 06:18:35.500000         31 days 16:27:00\n",
       "max           94 days 09:00:39        155 days 10:11:40"
      ]
     },
     "execution_count": 7,
     "metadata": {},
     "output_type": "execute_result"
    }
   ],
   "source": [
    "sum_nomination = pd.DataFrame([df_FAC.nomination_period.describe(), df_FA.nomination_period.describe()]).T\n",
    "sum_nomination.columns = ['unsuccessful', 'successful']\n",
    "sum_nomination"
   ]
  },
  {
   "cell_type": "markdown",
   "metadata": {},
   "source": [
    "In general we find that successful nominations are remain on the discussion page for a longer time. This is to be expected. If we take a look at the shortest unsuccessful nomination, we find nominations with few sources or lacking license information on the pictures. In such a case when it is obvious that an article does not fulfill the Featured Article Criteria, decisions are made swiftly. However, to promote an article there needs to be some time for potential critiques to respond. The shortest successful nominations took at least 2 days. The one exception (M-553, 1 day 1:30) is unusual because it was unsuccessfully nominated 3 day prior."
   ]
  },
  {
   "cell_type": "code",
   "execution_count": 8,
   "metadata": {},
   "outputs": [],
   "source": [
    "# By uncommenting these statements you can inspect the smallest an longest observation periods\n",
    "# n = 5\n",
    "#df_FA.loc[df_FA.nomination_period.nsmallest(n).index, ['title', 'date_nomination', 'end_date', 'nomination_period']]\n",
    "#df_FAC.loc[df_FAC.nomination_period.nsmallest(n).index, ['title', 'date_nomination', 'end_date','nomination_period']]\n",
    "#df_FA.loc[df_FA.nomination_period.nlargest(n).index, ['title', 'date_nomination', 'end_date', 'nomination_period']]\n",
    "#df_FAC.loc[df_FAC.nomination_period.nlargest(n).index, ['title', 'date_nomination', 'end_date', 'nomination_period']]\n"
   ]
  },
  {
   "cell_type": "markdown",
   "metadata": {},
   "source": [
    "## Edits"
   ]
  },
  {
   "cell_type": "code",
   "execution_count": 9,
   "metadata": {},
   "outputs": [
    {
     "name": "stdout",
     "output_type": "stream",
     "text": [
      "Unscuccessful Nominations\n"
     ]
    },
    {
     "data": {
      "text/html": [
       "<style  type=\"text/css\" >\n",
       "</style><table id=\"T_cd747eda_52f9_11e9_9654_07c2afad09a7\" ><thead>    <tr>        <th class=\"blank level0\" ></th>        <th class=\"col_heading level0 col0\" >mean</th>        <th class=\"col_heading level0 col1\" >std</th>        <th class=\"col_heading level0 col2\" >min</th>        <th class=\"col_heading level0 col3\" >25%</th>        <th class=\"col_heading level0 col4\" >50%</th>        <th class=\"col_heading level0 col5\" >75%</th>        <th class=\"col_heading level0 col6\" >max</th>        <th class=\"col_heading level0 col7\" >kurtosis</th>        <th class=\"col_heading level0 col8\" >skewness</th>    </tr></thead><tbody>\n",
       "                <tr>\n",
       "                        <th id=\"T_cd747eda_52f9_11e9_9654_07c2afad09a7level0_row0\" class=\"row_heading level0 row0\" >edits_before</th>\n",
       "                        <td id=\"T_cd747eda_52f9_11e9_9654_07c2afad09a7row0_col0\" class=\"data row0 col0\" >35.67</td>\n",
       "                        <td id=\"T_cd747eda_52f9_11e9_9654_07c2afad09a7row0_col1\" class=\"data row0 col1\" >63.11</td>\n",
       "                        <td id=\"T_cd747eda_52f9_11e9_9654_07c2afad09a7row0_col2\" class=\"data row0 col2\" >0.00</td>\n",
       "                        <td id=\"T_cd747eda_52f9_11e9_9654_07c2afad09a7row0_col3\" class=\"data row0 col3\" >3.00</td>\n",
       "                        <td id=\"T_cd747eda_52f9_11e9_9654_07c2afad09a7row0_col4\" class=\"data row0 col4\" >15.00</td>\n",
       "                        <td id=\"T_cd747eda_52f9_11e9_9654_07c2afad09a7row0_col5\" class=\"data row0 col5\" >43.50</td>\n",
       "                        <td id=\"T_cd747eda_52f9_11e9_9654_07c2afad09a7row0_col6\" class=\"data row0 col6\" >1095.00</td>\n",
       "                        <td id=\"T_cd747eda_52f9_11e9_9654_07c2afad09a7row0_col7\" class=\"data row0 col7\" >59.67</td>\n",
       "                        <td id=\"T_cd747eda_52f9_11e9_9654_07c2afad09a7row0_col8\" class=\"data row0 col8\" >5.76</td>\n",
       "            </tr>\n",
       "            <tr>\n",
       "                        <th id=\"T_cd747eda_52f9_11e9_9654_07c2afad09a7level0_row1\" class=\"row_heading level0 row1\" >edits_after</th>\n",
       "                        <td id=\"T_cd747eda_52f9_11e9_9654_07c2afad09a7row1_col0\" class=\"data row1 col0\" >52.00</td>\n",
       "                        <td id=\"T_cd747eda_52f9_11e9_9654_07c2afad09a7row1_col1\" class=\"data row1 col1\" >82.40</td>\n",
       "                        <td id=\"T_cd747eda_52f9_11e9_9654_07c2afad09a7row1_col2\" class=\"data row1 col2\" >0.00</td>\n",
       "                        <td id=\"T_cd747eda_52f9_11e9_9654_07c2afad09a7row1_col3\" class=\"data row1 col3\" >6.00</td>\n",
       "                        <td id=\"T_cd747eda_52f9_11e9_9654_07c2afad09a7row1_col4\" class=\"data row1 col4\" >26.00</td>\n",
       "                        <td id=\"T_cd747eda_52f9_11e9_9654_07c2afad09a7row1_col5\" class=\"data row1 col5\" >63.00</td>\n",
       "                        <td id=\"T_cd747eda_52f9_11e9_9654_07c2afad09a7row1_col6\" class=\"data row1 col6\" >1143.00</td>\n",
       "                        <td id=\"T_cd747eda_52f9_11e9_9654_07c2afad09a7row1_col7\" class=\"data row1 col7\" >40.51</td>\n",
       "                        <td id=\"T_cd747eda_52f9_11e9_9654_07c2afad09a7row1_col8\" class=\"data row1 col8\" >4.85</td>\n",
       "            </tr>\n",
       "            <tr>\n",
       "                        <th id=\"T_cd747eda_52f9_11e9_9654_07c2afad09a7level0_row2\" class=\"row_heading level0 row2\" >edits_p2w</th>\n",
       "                        <td id=\"T_cd747eda_52f9_11e9_9654_07c2afad09a7row2_col0\" class=\"data row2 col0\" >73.50</td>\n",
       "                        <td id=\"T_cd747eda_52f9_11e9_9654_07c2afad09a7row2_col1\" class=\"data row2 col1\" >167.22</td>\n",
       "                        <td id=\"T_cd747eda_52f9_11e9_9654_07c2afad09a7row2_col2\" class=\"data row2 col2\" >0.00</td>\n",
       "                        <td id=\"T_cd747eda_52f9_11e9_9654_07c2afad09a7row2_col3\" class=\"data row2 col3\" >8.91</td>\n",
       "                        <td id=\"T_cd747eda_52f9_11e9_9654_07c2afad09a7row2_col4\" class=\"data row2 col4\" >31.36</td>\n",
       "                        <td id=\"T_cd747eda_52f9_11e9_9654_07c2afad09a7row2_col5\" class=\"data row2 col5\" >75.06</td>\n",
       "                        <td id=\"T_cd747eda_52f9_11e9_9654_07c2afad09a7row2_col6\" class=\"data row2 col6\" >2880.00</td>\n",
       "                        <td id=\"T_cd747eda_52f9_11e9_9654_07c2afad09a7row2_col7\" class=\"data row2 col7\" >110.91</td>\n",
       "                        <td id=\"T_cd747eda_52f9_11e9_9654_07c2afad09a7row2_col8\" class=\"data row2 col8\" >8.91</td>\n",
       "            </tr>\n",
       "    </tbody></table>"
      ],
      "text/plain": [
       "<pandas.io.formats.style.Styler at 0x7f854141fba8>"
      ]
     },
     "metadata": {},
     "output_type": "display_data"
    },
    {
     "name": "stdout",
     "output_type": "stream",
     "text": [
      "\n",
      "\n",
      "\n",
      "Successful Nominations\n"
     ]
    },
    {
     "data": {
      "text/html": [
       "<style  type=\"text/css\" >\n",
       "</style><table id=\"T_cd75c146_52f9_11e9_9654_07c2afad09a7\" ><thead>    <tr>        <th class=\"blank level0\" ></th>        <th class=\"col_heading level0 col0\" >mean</th>        <th class=\"col_heading level0 col1\" >std</th>        <th class=\"col_heading level0 col2\" >min</th>        <th class=\"col_heading level0 col3\" >25%</th>        <th class=\"col_heading level0 col4\" >50%</th>        <th class=\"col_heading level0 col5\" >75%</th>        <th class=\"col_heading level0 col6\" >max</th>        <th class=\"col_heading level0 col7\" >kurtosis</th>        <th class=\"col_heading level0 col8\" >skewness</th>    </tr></thead><tbody>\n",
       "                <tr>\n",
       "                        <th id=\"T_cd75c146_52f9_11e9_9654_07c2afad09a7level0_row0\" class=\"row_heading level0 row0\" >edits_before</th>\n",
       "                        <td id=\"T_cd75c146_52f9_11e9_9654_07c2afad09a7row0_col0\" class=\"data row0 col0\" >46.16</td>\n",
       "                        <td id=\"T_cd75c146_52f9_11e9_9654_07c2afad09a7row0_col1\" class=\"data row0 col1\" >71.51</td>\n",
       "                        <td id=\"T_cd75c146_52f9_11e9_9654_07c2afad09a7row0_col2\" class=\"data row0 col2\" >0.00</td>\n",
       "                        <td id=\"T_cd75c146_52f9_11e9_9654_07c2afad09a7row0_col3\" class=\"data row0 col3\" >3.00</td>\n",
       "                        <td id=\"T_cd75c146_52f9_11e9_9654_07c2afad09a7row0_col4\" class=\"data row0 col4\" >18.00</td>\n",
       "                        <td id=\"T_cd75c146_52f9_11e9_9654_07c2afad09a7row0_col5\" class=\"data row0 col5\" >58.00</td>\n",
       "                        <td id=\"T_cd75c146_52f9_11e9_9654_07c2afad09a7row0_col6\" class=\"data row0 col6\" >947.00</td>\n",
       "                        <td id=\"T_cd75c146_52f9_11e9_9654_07c2afad09a7row0_col7\" class=\"data row0 col7\" >17.49</td>\n",
       "                        <td id=\"T_cd75c146_52f9_11e9_9654_07c2afad09a7row0_col8\" class=\"data row0 col8\" >3.25</td>\n",
       "            </tr>\n",
       "            <tr>\n",
       "                        <th id=\"T_cd75c146_52f9_11e9_9654_07c2afad09a7level0_row1\" class=\"row_heading level0 row1\" >edits_after</th>\n",
       "                        <td id=\"T_cd75c146_52f9_11e9_9654_07c2afad09a7row1_col0\" class=\"data row1 col0\" >75.56</td>\n",
       "                        <td id=\"T_cd75c146_52f9_11e9_9654_07c2afad09a7row1_col1\" class=\"data row1 col1\" >97.76</td>\n",
       "                        <td id=\"T_cd75c146_52f9_11e9_9654_07c2afad09a7row1_col2\" class=\"data row1 col2\" >0.00</td>\n",
       "                        <td id=\"T_cd75c146_52f9_11e9_9654_07c2afad09a7row1_col3\" class=\"data row1 col3\" >20.00</td>\n",
       "                        <td id=\"T_cd75c146_52f9_11e9_9654_07c2afad09a7row1_col4\" class=\"data row1 col4\" >46.00</td>\n",
       "                        <td id=\"T_cd75c146_52f9_11e9_9654_07c2afad09a7row1_col5\" class=\"data row1 col5\" >93.00</td>\n",
       "                        <td id=\"T_cd75c146_52f9_11e9_9654_07c2afad09a7row1_col6\" class=\"data row1 col6\" >1941.00</td>\n",
       "                        <td id=\"T_cd75c146_52f9_11e9_9654_07c2afad09a7row1_col7\" class=\"data row1 col7\" >51.01</td>\n",
       "                        <td id=\"T_cd75c146_52f9_11e9_9654_07c2afad09a7row1_col8\" class=\"data row1 col8\" >4.73</td>\n",
       "            </tr>\n",
       "            <tr>\n",
       "                        <th id=\"T_cd75c146_52f9_11e9_9654_07c2afad09a7level0_row2\" class=\"row_heading level0 row2\" >edits_p2w</th>\n",
       "                        <td id=\"T_cd75c146_52f9_11e9_9654_07c2afad09a7row2_col0\" class=\"data row2 col0\" >60.47</td>\n",
       "                        <td id=\"T_cd75c146_52f9_11e9_9654_07c2afad09a7row2_col1\" class=\"data row2 col1\" >79.36</td>\n",
       "                        <td id=\"T_cd75c146_52f9_11e9_9654_07c2afad09a7row2_col2\" class=\"data row2 col2\" >0.00</td>\n",
       "                        <td id=\"T_cd75c146_52f9_11e9_9654_07c2afad09a7row2_col3\" class=\"data row2 col3\" >14.00</td>\n",
       "                        <td id=\"T_cd75c146_52f9_11e9_9654_07c2afad09a7row2_col4\" class=\"data row2 col4\" >34.96</td>\n",
       "                        <td id=\"T_cd75c146_52f9_11e9_9654_07c2afad09a7row2_col5\" class=\"data row2 col5\" >75.70</td>\n",
       "                        <td id=\"T_cd75c146_52f9_11e9_9654_07c2afad09a7row2_col6\" class=\"data row2 col6\" >856.37</td>\n",
       "                        <td id=\"T_cd75c146_52f9_11e9_9654_07c2afad09a7row2_col7\" class=\"data row2 col7\" >15.80</td>\n",
       "                        <td id=\"T_cd75c146_52f9_11e9_9654_07c2afad09a7row2_col8\" class=\"data row2 col8\" >3.26</td>\n",
       "            </tr>\n",
       "    </tbody></table>"
      ],
      "text/plain": [
       "<pandas.io.formats.style.Styler at 0x7f854141f9e8>"
      ]
     },
     "metadata": {},
     "output_type": "display_data"
    }
   ],
   "source": [
    "df_FAC['edits_p2w'] = df_FAC['edits_after']/(df_FAC['nomination_period']/np.timedelta64(2, 'W'))\n",
    "df_FA['edits_p2w'] = df_FA['edits_after']/(df_FA['nomination_period']/np.timedelta64(2, 'W'))\n",
    "\n",
    "summary_FAC_edits = pd.Dathttps://www.google.com/search?client=ubuntu&channel=fs&q=imigaes&ie=utf-8&oe=utf-8aFrame([\n",
    "df_FAC.edits_before.describe(),\n",
    "df_FAC.edits_after.describe(),\n",
    "df_FAC.edits_p2w.describe()])\n",
    "\n",
    "summary_FA_edits = pd.DataFrame([\n",
    "df_FA.edits_before.describe(),\n",
    "df_FA.edits_after.describe(),\n",
    "df_FA.edits_p2w.describe()])\n",
    "\n",
    "summary_FA_edits['kurtosis'] = [df_FA.edits_before.kurtosis(), df_FA.edits_after.kurtosis(), df_FA.edits_p2w.kurtosis()]\n",
    "summary_FA_edits['skewness'] = [df_FA.edits_before.skew(), df_FA.edits_after.skew(), df_FA.edits_p2w.skew()]\n",
    "summary_FAC_edits['kurtosis'] = [df_FAC.edits_before.kurtosis(), df_FAC.edits_after.kurtosis(), df_FAC.edits_p2w.kurtosis()]\n",
    "summary_FAC_edits['skewness'] = [df_FAC.edits_before.skew(), df_FAC.edits_after.skew(), df_FAC.edits_p2w.skew()]\n",
    "\n",
    "\n",
    "summary_FA_edits.drop('count', axis=1, inplace=True)\n",
    "summary_FAC_edits.drop('count', axis=1, inplace=True)\n",
    "s1_edits = summary_FAC_edits.style.format({col: '{:.2f}' for col in summary_FA_edits.columns})\n",
    "s2_edits = summary_FA_edits.style.format({col: '{:.2f}' for col in summary_FAC_edits.columns})\n",
    "\n",
    "print('Unscuccessful Nominations')\n",
    "display(s1_edits)\n",
    "print('\\n\\n')\n",
    "\n",
    "print('Successful Nominations')\n",
    "display(s2_edits)"
   ]
  },
  {
   "cell_type": "markdown",
   "metadata": {},
   "source": [
    "We think it is important to point out that the number of edits is a flawed metric. It does not account for the magnitude of the change in the article. Whether a single typo was corrected or whether an additional section was written is neglected in a simple edit count. Differnces in the edit count could also just be differences in working style, i.e. how oven an author saves his changes when editing an article. \n",
    "\n",
    "On average successful nominations receive a little more edits in the two weeks leading up to the nomination, compared to unsuccessful ones. The difference in the mean number of edits is however strongly driven by outliers. There is only a difference of 3 comparing their median. \n",
    "\n",
    "Also after the nomination more work is expended on successful nominations. The problem with this comparision is that we do not take into account the differences in the nomination period. For successful nominations we record the edits for a longer time. For this reason we added an additional measurement, the number of edits per two weeks. We decided on this measure to also facilitated comparisons with the pre-nomination period. Generally are there more edits after the nomination, indicating that the additional attention leads to significant changes the article. The difference between average edits before and average edits after nomination is bigger for unsuccessful nominations. One explanation for this would be that during the nomination of candidates more flaws of these articles should get pointed out, thus leaving the author(s) with more issues to address. From my inspection of the discussion I learned that insufficient or low quality references are a common issue of unsuccessful candidates. During the review low quality references are usually removed, some authors add new ones or unreferenced section may even be deleted, causing frequent edits."
   ]
  },
  {
   "cell_type": "code",
   "execution_count": 17,
   "metadata": {},
   "outputs": [
    {
     "name": "stdout",
     "output_type": "stream",
     "text": [
      "Unscuccessful Nominations\n"
     ]
    },
    {
     "data": {
      "text/html": [
       "<style  type=\"text/css\" >\n",
       "</style><table id=\"T_36f2ff16_52fb_11e9_9654_07c2afad09a7\" ><thead>    <tr>        <th class=\"blank level0\" ></th>        <th class=\"col_heading level0 col0\" >mean</th>        <th class=\"col_heading level0 col1\" >std</th>        <th class=\"col_heading level0 col2\" >min</th>        <th class=\"col_heading level0 col3\" >25%</th>        <th class=\"col_heading level0 col4\" >50%</th>        <th class=\"col_heading level0 col5\" >75%</th>        <th class=\"col_heading level0 col6\" >max</th>        <th class=\"col_heading level0 col7\" >kurtosis</th>        <th class=\"col_heading level0 col8\" >skewness</th>    </tr></thead><tbody>\n",
       "                <tr>\n",
       "                        <th id=\"T_36f2ff16_52fb_11e9_9654_07c2afad09a7level0_row0\" class=\"row_heading level0 row0\" >authors_before</th>\n",
       "                        <td id=\"T_36f2ff16_52fb_11e9_9654_07c2afad09a7row0_col0\" class=\"data row0 col0\" >5.00</td>\n",
       "                        <td id=\"T_36f2ff16_52fb_11e9_9654_07c2afad09a7row0_col1\" class=\"data row0 col1\" >9.31</td>\n",
       "                        <td id=\"T_36f2ff16_52fb_11e9_9654_07c2afad09a7row0_col2\" class=\"data row0 col2\" >0.00</td>\n",
       "                        <td id=\"T_36f2ff16_52fb_11e9_9654_07c2afad09a7row0_col3\" class=\"data row0 col3\" >1.00</td>\n",
       "                        <td id=\"T_36f2ff16_52fb_11e9_9654_07c2afad09a7row0_col4\" class=\"data row0 col4\" >3.00</td>\n",
       "                        <td id=\"T_36f2ff16_52fb_11e9_9654_07c2afad09a7row0_col5\" class=\"data row0 col5\" >6.00</td>\n",
       "                        <td id=\"T_36f2ff16_52fb_11e9_9654_07c2afad09a7row0_col6\" class=\"data row0 col6\" >245.00</td>\n",
       "                        <td id=\"T_36f2ff16_52fb_11e9_9654_07c2afad09a7row0_col7\" class=\"data row0 col7\" >224.57</td>\n",
       "                        <td id=\"T_36f2ff16_52fb_11e9_9654_07c2afad09a7row0_col8\" class=\"data row0 col8\" >11.32</td>\n",
       "            </tr>\n",
       "            <tr>\n",
       "                        <th id=\"T_36f2ff16_52fb_11e9_9654_07c2afad09a7level0_row1\" class=\"row_heading level0 row1\" >authors_after</th>\n",
       "                        <td id=\"T_36f2ff16_52fb_11e9_9654_07c2afad09a7row1_col0\" class=\"data row1 col0\" >7.00</td>\n",
       "                        <td id=\"T_36f2ff16_52fb_11e9_9654_07c2afad09a7row1_col1\" class=\"data row1 col1\" >7.47</td>\n",
       "                        <td id=\"T_36f2ff16_52fb_11e9_9654_07c2afad09a7row1_col2\" class=\"data row1 col2\" >0.00</td>\n",
       "                        <td id=\"T_36f2ff16_52fb_11e9_9654_07c2afad09a7row1_col3\" class=\"data row1 col3\" >2.00</td>\n",
       "                        <td id=\"T_36f2ff16_52fb_11e9_9654_07c2afad09a7row1_col4\" class=\"data row1 col4\" >5.00</td>\n",
       "                        <td id=\"T_36f2ff16_52fb_11e9_9654_07c2afad09a7row1_col5\" class=\"data row1 col5\" >9.00</td>\n",
       "                        <td id=\"T_36f2ff16_52fb_11e9_9654_07c2afad09a7row1_col6\" class=\"data row1 col6\" >84.00</td>\n",
       "                        <td id=\"T_36f2ff16_52fb_11e9_9654_07c2afad09a7row1_col7\" class=\"data row1 col7\" >19.36</td>\n",
       "                        <td id=\"T_36f2ff16_52fb_11e9_9654_07c2afad09a7row1_col8\" class=\"data row1 col8\" >3.26</td>\n",
       "            </tr>\n",
       "            <tr>\n",
       "                        <th id=\"T_36f2ff16_52fb_11e9_9654_07c2afad09a7level0_row2\" class=\"row_heading level0 row2\" >authors_p2w</th>\n",
       "                        <td id=\"T_36f2ff16_52fb_11e9_9654_07c2afad09a7row2_col0\" class=\"data row2 col0\" >15.01</td>\n",
       "                        <td id=\"T_36f2ff16_52fb_11e9_9654_07c2afad09a7row2_col1\" class=\"data row2 col1\" >73.71</td>\n",
       "                        <td id=\"T_36f2ff16_52fb_11e9_9654_07c2afad09a7row2_col2\" class=\"data row2 col2\" >0.00</td>\n",
       "                        <td id=\"T_36f2ff16_52fb_11e9_9654_07c2afad09a7row2_col3\" class=\"data row2 col3\" >2.45</td>\n",
       "                        <td id=\"T_36f2ff16_52fb_11e9_9654_07c2afad09a7row2_col4\" class=\"data row2 col4\" >5.92</td>\n",
       "                        <td id=\"T_36f2ff16_52fb_11e9_9654_07c2afad09a7row2_col5\" class=\"data row2 col5\" >13.03</td>\n",
       "                        <td id=\"T_36f2ff16_52fb_11e9_9654_07c2afad09a7row2_col6\" class=\"data row2 col6\" >2880.00</td>\n",
       "                        <td id=\"T_36f2ff16_52fb_11e9_9654_07c2afad09a7row2_col7\" class=\"data row2 col7\" >985.10</td>\n",
       "                        <td id=\"T_36f2ff16_52fb_11e9_9654_07c2afad09a7row2_col8\" class=\"data row2 col8\" >27.93</td>\n",
       "            </tr>\n",
       "    </tbody></table>"
      ],
      "text/plain": [
       "<pandas.io.formats.style.Styler at 0x7f8540ff52b0>"
      ]
     },
     "metadata": {},
     "output_type": "display_data"
    },
    {
     "name": "stdout",
     "output_type": "stream",
     "text": [
      "\n",
      "\n",
      "\n",
      "Successful Nominations\n"
     ]
    },
    {
     "data": {
      "text/html": [
       "<style  type=\"text/css\" >\n",
       "</style><table id=\"T_36f3bdac_52fb_11e9_9654_07c2afad09a7\" ><thead>    <tr>        <th class=\"blank level0\" ></th>        <th class=\"col_heading level0 col0\" >mean</th>        <th class=\"col_heading level0 col1\" >std</th>        <th class=\"col_heading level0 col2\" >min</th>        <th class=\"col_heading level0 col3\" >25%</th>        <th class=\"col_heading level0 col4\" >50%</th>        <th class=\"col_heading level0 col5\" >75%</th>        <th class=\"col_heading level0 col6\" >max</th>        <th class=\"col_heading level0 col7\" >kurtosis</th>        <th class=\"col_heading level0 col8\" >skewness</th>    </tr></thead><tbody>\n",
       "                <tr>\n",
       "                        <th id=\"T_36f3bdac_52fb_11e9_9654_07c2afad09a7level0_row0\" class=\"row_heading level0 row0\" >authors_before</th>\n",
       "                        <td id=\"T_36f3bdac_52fb_11e9_9654_07c2afad09a7row0_col0\" class=\"data row0 col0\" >3.93</td>\n",
       "                        <td id=\"T_36f3bdac_52fb_11e9_9654_07c2afad09a7row0_col1\" class=\"data row0 col1\" >5.05</td>\n",
       "                        <td id=\"T_36f3bdac_52fb_11e9_9654_07c2afad09a7row0_col2\" class=\"data row0 col2\" >0.00</td>\n",
       "                        <td id=\"T_36f3bdac_52fb_11e9_9654_07c2afad09a7row0_col3\" class=\"data row0 col3\" >1.00</td>\n",
       "                        <td id=\"T_36f3bdac_52fb_11e9_9654_07c2afad09a7row0_col4\" class=\"data row0 col4\" >3.00</td>\n",
       "                        <td id=\"T_36f3bdac_52fb_11e9_9654_07c2afad09a7row0_col5\" class=\"data row0 col5\" >5.00</td>\n",
       "                        <td id=\"T_36f3bdac_52fb_11e9_9654_07c2afad09a7row0_col6\" class=\"data row0 col6\" >85.00</td>\n",
       "                        <td id=\"T_36f3bdac_52fb_11e9_9654_07c2afad09a7row0_col7\" class=\"data row0 col7\" >41.03</td>\n",
       "                        <td id=\"T_36f3bdac_52fb_11e9_9654_07c2afad09a7row0_col8\" class=\"data row0 col8\" >4.68</td>\n",
       "            </tr>\n",
       "            <tr>\n",
       "                        <th id=\"T_36f3bdac_52fb_11e9_9654_07c2afad09a7level0_row1\" class=\"row_heading level0 row1\" >authors_after</th>\n",
       "                        <td id=\"T_36f3bdac_52fb_11e9_9654_07c2afad09a7row1_col0\" class=\"data row1 col0\" >8.69</td>\n",
       "                        <td id=\"T_36f3bdac_52fb_11e9_9654_07c2afad09a7row1_col1\" class=\"data row1 col1\" >7.44</td>\n",
       "                        <td id=\"T_36f3bdac_52fb_11e9_9654_07c2afad09a7row1_col2\" class=\"data row1 col2\" >0.00</td>\n",
       "                        <td id=\"T_36f3bdac_52fb_11e9_9654_07c2afad09a7row1_col3\" class=\"data row1 col3\" >5.00</td>\n",
       "                        <td id=\"T_36f3bdac_52fb_11e9_9654_07c2afad09a7row1_col4\" class=\"data row1 col4\" >7.00</td>\n",
       "                        <td id=\"T_36f3bdac_52fb_11e9_9654_07c2afad09a7row1_col5\" class=\"data row1 col5\" >11.00</td>\n",
       "                        <td id=\"T_36f3bdac_52fb_11e9_9654_07c2afad09a7row1_col6\" class=\"data row1 col6\" >130.00</td>\n",
       "                        <td id=\"T_36f3bdac_52fb_11e9_9654_07c2afad09a7row1_col7\" class=\"data row1 col7\" >28.89</td>\n",
       "                        <td id=\"T_36f3bdac_52fb_11e9_9654_07c2afad09a7row1_col8\" class=\"data row1 col8\" >3.44</td>\n",
       "            </tr>\n",
       "            <tr>\n",
       "                        <th id=\"T_36f3bdac_52fb_11e9_9654_07c2afad09a7level0_row2\" class=\"row_heading level0 row2\" >authors_p2w</th>\n",
       "                        <td id=\"T_36f3bdac_52fb_11e9_9654_07c2afad09a7row2_col0\" class=\"data row2 col0\" >7.59</td>\n",
       "                        <td id=\"T_36f3bdac_52fb_11e9_9654_07c2afad09a7row2_col1\" class=\"data row2 col1\" >7.94</td>\n",
       "                        <td id=\"T_36f3bdac_52fb_11e9_9654_07c2afad09a7row2_col2\" class=\"data row2 col2\" >0.00</td>\n",
       "                        <td id=\"T_36f3bdac_52fb_11e9_9654_07c2afad09a7row2_col3\" class=\"data row2 col3\" >2.60</td>\n",
       "                        <td id=\"T_36f3bdac_52fb_11e9_9654_07c2afad09a7row2_col4\" class=\"data row2 col4\" >5.33</td>\n",
       "                        <td id=\"T_36f3bdac_52fb_11e9_9654_07c2afad09a7row2_col5\" class=\"data row2 col5\" >10.14</td>\n",
       "                        <td id=\"T_36f3bdac_52fb_11e9_9654_07c2afad09a7row2_col6\" class=\"data row2 col6\" >94.48</td>\n",
       "                        <td id=\"T_36f3bdac_52fb_11e9_9654_07c2afad09a7row2_col7\" class=\"data row2 col7\" >13.20</td>\n",
       "                        <td id=\"T_36f3bdac_52fb_11e9_9654_07c2afad09a7row2_col8\" class=\"data row2 col8\" >2.74</td>\n",
       "            </tr>\n",
       "    </tbody></table>"
      ],
      "text/plain": [
       "<pandas.io.formats.style.Styler at 0x7f854135ac88>"
      ]
     },
     "metadata": {},
     "output_type": "display_data"
    }
   ],
   "source": [
    "df_FAC['authors_p2w'] = df_FAC['authors_after']/(df_FAC['nomination_period']/np.timedelta64(2, 'W'))\n",
    "df_FA['authors_p2w'] = df_FA['authors_after']/(df_FA['nomination_period']/np.timedelta64(2, 'W'))\n",
    "\n",
    "\n",
    "summary_FAC_authors = pd.DataFrame([\n",
    "df_FAC.authors_before.describe(),\n",
    "df_FAC.authors_after.describe(),\n",
    "df_FAC.authors_p2w.describe()])\n",
    "summary_FA_authors = pd.DataFrame([\n",
    "df_FA.authors_before.describe(),\n",
    "df_FA.authors_after.describe(),\n",
    "df_FA.authors_p2w.describe()])\n",
    "\n",
    "summary_FA_authors['kurtosis'] = [df_FA.authors_before.kurtosis(), df_FA.authors_after.kurtosis(), df_FA.authors_p2w.kurtosis()]\n",
    "summary_FA_authors['skewness'] = [df_FA.authors_before.skew(), df_FA.authors_after.skew(), df_FA.authors_p2w.skew()]\n",
    "summary_FAC_authors['kurtosis'] = [df_FAC.authors_before.kurtosis(), df_FAC.authors_after.kurtosis(), df_FAC.authors_p2w.kurtosis()]\n",
    "summary_FAC_authors['skewness'] = [df_FAC.authors_before.skew(), df_FAC.authors_after.skew(), df_FAC.authors_p2w.skew()]\n",
    "\n",
    "summary_FAC_authors_no_outlier = df_FAC.loc[df_FAC.authors_before <= df_FAC.authors_before.quantile(0.995), ['authors_before', 'authors_after', 'authors_p2w']].describe().T\n",
    "summary_FAC_authors_no_outlier.drop('count', axis=1, inplace=True)\n",
    "\n",
    "summary_FA_authors_no_outlier = df_FA.loc[df_FA.authors_before <= df_FA.authors_before.quantile(0.995), ['authors_before', 'authors_after', 'authors_p2w']].describe().T\n",
    "summary_FA_authors_no_outlier.drop('count', axis=1, inplace=True)\n",
    "\n",
    "\n",
    "summary_FA_authors.drop('count', axis=1, inplace=True)\n",
    "summary_FAC_authors.drop('count', axis=1, inplace=True)\n",
    "s1_a = summary_FAC_authors.style.format({col: '{:.2f}' for col in summary_FA_authors.columns})\n",
    "s2_a = summary_FA_authors.style.format({col: '{:.2f}' for col in summary_FAC_authors.columns})\n",
    "s3_a = summary_FAC_authors_no_outlier.style.format({col: '{:.2f}' for col in summary_FAC_authors_no_outlier.columns})\n",
    "s4_a = summary_FA_authors_no_outlier.style.format({col: '{:.2f}' for col in summary_FA_authors_no_outlier.columns})\n",
    "\n",
    "print('Unscuccessful Nominations')\n",
    "display(s1_a)\n",
    "print('\\n\\n')\n",
    "print('Successful Nominations')\n",
    "display(s2_a)\n"
   ]
  },
  {
   "cell_type": "markdown",
   "metadata": {},
   "source": [
    "The first thing that we can verify is that the nomination of an articles causes an influx of new authors into an article. There are generally more unique authors during the nomination than in the time leading up to it. \n",
    "\n",
    "At the first glance unsuccessful nominations seem to be worked on by more authors, in comparison to unsuccessful ones. This however is mainly driven by some outliers. Kurtosis and skewness also indicate that the distribution of the unsuccessful nominations is more skewed. If we take a look at the quantiles we find that both have the same median and that in the 75% quantile unsuccessful candidates have only one editor more. This suggests that there is a similar amount of cooperation in preparing an article for its candidacy. \n",
    "\n",
    "A slightly different picture is drawn during the nomination period. Successful nominations attract more new editors than unsuccessful ones. From our perspective the most probable explanation for this is that authors are more prone to participate in promising articles. Some authors for example who specialize in topics like reviewing sources or images will only start their review, when an articles has gathered some amount of support. Another possible explanation is simply the longer observation period. As we have note above, successful nomination tend to take longer, so there is a longer time in which users can see the article and decide to contribute to it. We can find support for this interpretation looking at the number of authors normalized to two weeks, in which the difference between successful and unsuccessful nominations is \n",
    "considerably smaller."
   ]
  },
  {
   "cell_type": "code",
   "execution_count": null,
   "metadata": {},
   "outputs": [],
   "source": []
  }
 ],
 "metadata": {
  "kernelspec": {
   "display_name": "Wiki Project",
   "language": "python",
   "name": "wiki_project"
  },
  "language_info": {
   "codemirror_mode": {
    "name": "ipython",
    "version": 3
   },
   "file_extension": ".py",
   "mimetype": "text/x-python",
   "name": "python",
   "nbconvert_exporter": "python",
   "pygments_lexer": "ipython3",
   "version": "3.7.2"
  }
 },
 "nbformat": 4,
 "nbformat_minor": 2
}
