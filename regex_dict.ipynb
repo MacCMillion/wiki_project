{
 "cells": [
  {
   "cell_type": "code",
   "execution_count": 98,
   "metadata": {},
   "outputs": [],
   "source": [
    "from pprint import pprint\n",
    "\n",
    "import numpy as np\n",
    "import pandas as pd\n",
    "#import sax\n",
    "import re\n",
    "from datetime import datetime\n",
    "import locale\n",
    "import pickle\n",
    "\n",
    "#E23W3-26JM4-GGBDB"
   ]
  },
  {
   "cell_type": "markdown",
   "metadata": {},
   "source": [
    "## Matching Regex and Formats\n",
    "### Intro"
   ]
  },
  {
   "cell_type": "markdown",
   "metadata": {},
   "source": [
    "The basic task is \n",
    "\n",
    "1) to match several regex on a document and insure the order of the matches and \n",
    "\n",
    "2) depending on which regex is matched to process the result differently. \n",
    "\n",
    "Think about it like having  a several documents from which you want to retrieve the first and last date and subsequently convert it to a datetime object. So on the one hand the order of the matches is important, and on the other hand we want to keep the mapping to their format in tact. Assuming the dates appear in chronological order in the document, we can determine the first and last date after transforming them, but I would also like to solve the if there is no natural order on the transformed objects or we want to avoid transforming all of them. \n",
    "\n",
    "### A very simple idea\n",
    "\n",
    "The easiest thing to do would be to create a bunch of patterns and if one matches we  translate it to a datetime object and store it:\n"
   ]
  },
  {
   "cell_type": "code",
   "execution_count": 5,
   "metadata": {},
   "outputs": [],
   "source": [
    "\n",
    "ds1 = '16:45, Jan 03, 2007 (UTC) blabla'\n",
    "ds2 = '16:45, 03 Jan 2007 (UTC)'\n",
    "ds3 = '16:45, 03 January 2007 (UTC)'\n",
    "\n",
    "p1 = '([\\d]{2}:[\\d]{2}, [a-zA-Z]{3} [\\d]{1,2}, [\\d]{4}) \\(UTC\\)'\n",
    "p2 = '([\\d]{2}:[\\d]{2}, [\\d]{1,2} [a-zA-Z]{3} [\\d]{4}) \\(UTC\\)'\n",
    "p3 = '([\\d]{2}:[\\d]{2}, [\\d]{1,2} [A-Za-z]{3,8} [\\d]{4}) \\(UTC\\)' \n",
    "p4 = \"[\\d]{2}:[\\d]{2}, [A-Z][a-z]{3,8} [\\d]{1,2}, [\\d]{4} \\(UTC\\)\"\n",
    "p5 = '[A-Z][a-z]{3,8} [\\\\d]{1,2}, [\\d]{4} [\\d]{2}:[\\d]{2} \\(UTC\\)'\n",
    "\n",
    "f1 = ('%H:%M, %b %d, %Y')\n",
    "f2 = ('%H:%M, %d %b %Y')"
   ]
  },
  {
   "cell_type": "code",
   "execution_count": 6,
   "metadata": {},
   "outputs": [],
   "source": [
    "data = [\n",
    "'16:45, Jan 03, 2007 (UTC) blabla',\n",
    "'16:45, 03 Jan 2007 (UTC)'\n",
    "]\n",
    "\n",
    "d = {\n",
    "    '([\\d]{2}:[\\d]{2}, [a-zA-Z]{3} [\\d]{1,2}, [\\d]{4}) \\(UTC\\)' : '%H:%M, %b %d, %Y',\n",
    "    '([\\d]{2}:[\\d]{2}, [\\d]{1,2} [a-zA-Z]{3} [\\d]{4}) \\(UTC\\)' : '%H:%M, %d %b %Y'\n",
    "}"
   ]
  },
  {
   "cell_type": "code",
   "execution_count": 7,
   "metadata": {},
   "outputs": [
    {
     "name": "stdout",
     "output_type": "stream",
     "text": [
      "['16:45, Jan 03, 2007', '16:45, Feb 05, 2007']\n"
     ]
    }
   ],
   "source": [
    "content = 'lore ipsum 16:45, Jan 03, 2007 (UTC) ipsum blabla' \\\n",
    "        '16:45, Feb 05, 2007 (UTC) blabla'\n",
    "\n",
    "    def simple_match_and_format(content):\n",
    "\n",
    "        p1 = '([\\d]{2}:[\\d]{2}, [a-zA-Z]{3} [\\d]{1,2}, [\\d]{4}) \\(UTC\\)'\n",
    "        p2 = '[A-Z][a-z]{3,8} [\\\\d]{1,2}, [\\d]{4} [\\d]{2}:[\\d]{2} \\(UTC\\)'\n",
    "\n",
    "        m1 = re.findall(p1, content)\n",
    "        m2 = re.findall(p2, content)\n",
    "\n",
    "        dates = []\n",
    "        for match in m1:\n",
    "            dates.append(datetime.strptime(m1[0], '%H:%M, %b %d, %Y'))\n",
    "        for match in m2:\n",
    "            dates.append( datetime.strptime(m1[-1], '%H:%M, %b %d, %Y'))\n",
    "        \n",
    "        return dates\n",
    "\n",
    "print(simple_match_and_format(content))"
   ]
  },
  {
   "cell_type": "markdown",
   "metadata": {},
   "source": [
    "### using a dictionary"
   ]
  },
  {
   "cell_type": "markdown",
   "metadata": {},
   "source": [
    "Now this certainly does not look very elegant. Furthermore we then have to determine the first and last date of all maches. But this should be avoidable and does not solve the problem if the processed result have no natural order. \n",
    "\n",
    "So I remember my favorite Python rule of thumb: If you find yourself writing a lot of if statements, it’s most likely a dictionary is the solution. And I think its intuitive, since a this is what we are looking for a mapping from a regex pattern to a date format. Now we can iterate over the dictionary keys and if we get a match we can use it to retrieve the corresponding date format. While this looks much more elegant, but we are still left with the problem which was the first date and which was the last one, since the regex are checked in the order in which the are returned from the dictionary."
   ]
  },
  {
   "cell_type": "code",
   "execution_count": 9,
   "metadata": {},
   "outputs": [],
   "source": [
    "def match_and_format_join(content, format_dict):\n",
    "    res = []\n",
    "    regex_comb = '|'.join(format_dict.keys())\n",
    "    matches=re.findall(regex_comb, content)\n",
    "    for match in  matches:\n",
    "        res.append(datetime.strptime(matches))\n",
    "    # map matching part of regex_comb to its format"
   ]
  },
  {
   "cell_type": "markdown",
   "metadata": {},
   "source": [
    "Intead of findall() we can also you finditer() to a match object. Which allow for a more flexible handling of the groups. Additionaly if I understand correctly the match object only store a possitional match and return the acctual matched strings not until, gorups() is called. This might be good if only some of the results are processed. Since we strored a possitional match, we can also use this to sort our iterators if we want to ensure the order of exectution. \n",
    "\n",
    "This is the base loop to get the matches:"
   ]
  },
  {
   "cell_type": "code",
   "execution_count": 9,
   "metadata": {},
   "outputs": [
    {
     "name": "stdout",
     "output_type": "stream",
     "text": [
      "('16:45, Jan 03, 2007',) ([\\d]{2}:[\\d]{2}, [a-zA-Z]{3} [\\d]{1,2}, [\\d]{4}) \\(UTC\\)\n",
      "%H:%M, %b %d, %Y \n",
      "\n",
      "('16:45, Feb 05, 2007',) ([\\d]{2}:[\\d]{2}, [a-zA-Z]{3} [\\d]{1,2}, [\\d]{4}) \\(UTC\\)\n",
      "%H:%M, %b %d, %Y \n",
      "\n"
     ]
    }
   ],
   "source": [
    "matches = []\n",
    "\n",
    "def match_and_format_loop(cotent, format_dict):\n",
    "    for regex in format_dict.keys():\n",
    "        for match in re.finThere are 3 additional filesditer(regex, content):\n",
    "            matches.append((match, regex))\n",
    "\n",
    "    for match_i, regex_i in matches:\n",
    "        print(match_i.groups(), regex_i)\n",
    "        print(format_dict[regex_i], '\\n')\n",
    "\n",
    "match_and_format_loop(content, date_formats)\n"
   ]
  },
  {
   "cell_type": "markdown",
   "metadata": {},
   "source": [
    "We can write  this as an list comprehetion. Now we have to process our matches acording to the format recieved from the format_dict. Wo can also make use of our positional matches and sort our iterators before we process the result."
   ]
  },
  {
   "cell_type": "code",
   "execution_count": 1,
   "metadata": {},
   "outputs": [
    {
     "ename": "NameError",
     "evalue": "name 're' is not defined",
     "output_type": "error",
     "traceback": [
      "\u001b[0;31m---------------------------------------------------------------------------\u001b[0m",
      "\u001b[0;31mNameError\u001b[0m                                 Traceback (most recent call last)",
      "\u001b[0;32m<ipython-input-1-c5ccdacdab6f>\u001b[0m in \u001b[0;36m<module>\u001b[0;34m\u001b[0m\n\u001b[1;32m     28\u001b[0m     \u001b[0;32mreturn\u001b[0m \u001b[0mres\u001b[0m\u001b[0;34m\u001b[0m\u001b[0;34m\u001b[0m\u001b[0m\n\u001b[1;32m     29\u001b[0m \u001b[0;34m\u001b[0m\u001b[0m\n\u001b[0;32m---> 30\u001b[0;31m \u001b[0mmatch_and_format\u001b[0m\u001b[0;34m(\u001b[0m\u001b[0mcontent\u001b[0m\u001b[0;34m,\u001b[0m \u001b[0mdate_formats\u001b[0m\u001b[0;34m)\u001b[0m\u001b[0;34m\u001b[0m\u001b[0;34m\u001b[0m\u001b[0m\n\u001b[0m",
      "\u001b[0;32m<ipython-input-1-c5ccdacdab6f>\u001b[0m in \u001b[0;36mmatch_and_format\u001b[0;34m(content, format_dict, ensure_order, verbose)\u001b[0m\n\u001b[1;32m     11\u001b[0m \u001b[0;32mdef\u001b[0m \u001b[0mmatch_and_format\u001b[0m\u001b[0;34m(\u001b[0m\u001b[0mcontent\u001b[0m\u001b[0;34m,\u001b[0m \u001b[0mformat_dict\u001b[0m\u001b[0;34m,\u001b[0m \u001b[0mensure_order\u001b[0m\u001b[0;34m=\u001b[0m\u001b[0;32mTrue\u001b[0m\u001b[0;34m,\u001b[0m \u001b[0mverbose\u001b[0m\u001b[0;34m=\u001b[0m\u001b[0;32mTrue\u001b[0m\u001b[0;34m)\u001b[0m\u001b[0;34m:\u001b[0m\u001b[0;34m\u001b[0m\u001b[0;34m\u001b[0m\u001b[0m\n\u001b[1;32m     12\u001b[0m \u001b[0;34m\u001b[0m\u001b[0m\n\u001b[0;32m---> 13\u001b[0;31m     matches = [(match.start(), match, regex) for regex in format_dict.keys() \n\u001b[0m\u001b[1;32m     14\u001b[0m                for match in re.finditer(regex, content)]\n\u001b[1;32m     15\u001b[0m     \u001b[0mprint\u001b[0m\u001b[0;34m(\u001b[0m\u001b[0mmatches\u001b[0m\u001b[0;34m)\u001b[0m\u001b[0;34m\u001b[0m\u001b[0;34m\u001b[0m\u001b[0m\n",
      "\u001b[0;32m<ipython-input-1-c5ccdacdab6f>\u001b[0m in \u001b[0;36m<listcomp>\u001b[0;34m(.0)\u001b[0m\n\u001b[1;32m     12\u001b[0m \u001b[0;34m\u001b[0m\u001b[0m\n\u001b[1;32m     13\u001b[0m     matches = [(match.start(), match, regex) for regex in format_dict.keys() \n\u001b[0;32m---> 14\u001b[0;31m                for match in re.finditer(regex, content)]\n\u001b[0m\u001b[1;32m     15\u001b[0m     \u001b[0mprint\u001b[0m\u001b[0;34m(\u001b[0m\u001b[0mmatches\u001b[0m\u001b[0;34m)\u001b[0m\u001b[0;34m\u001b[0m\u001b[0;34m\u001b[0m\u001b[0m\n\u001b[1;32m     16\u001b[0m     \u001b[0;32mif\u001b[0m \u001b[0mensure_order\u001b[0m\u001b[0;34m:\u001b[0m\u001b[0;34m\u001b[0m\u001b[0;34m\u001b[0m\u001b[0m\n",
      "\u001b[0;31mNameError\u001b[0m: name 're' is not defined"
     ]
    }
   ],
   "source": [
    "content = 'bla bla bla 16:45, Jan 03, 2007 (UTC) blabla' \\\n",
    "          '16:45, 13 May 2018 (UTC)' \\\n",
    "          '16:45, Feb 05, 1997 (UTC) blabla'\\\n",
    "          '16:45, Jan 05, 2007 (UTC) blabla'\n",
    "\n",
    "date_formats = {\n",
    "    '([\\d]{2}:[\\d]{2}, [a-zA-Z]{3} [\\d]{1,2}, [\\d]{4}) \\(UTC\\)': '%H:%M, %b %d, %Y',\n",
    "    '([A-Z][a-z]{3,8} [\\\\d]{1,2}, [\\d]{4} [\\d]{2}:[\\d]{2}) \\(UTC\\)': '%B %d, %Y %H:%M'\n",
    "}\n",
    "\n",
    "def match_and_format(content, format_dict, ensure_order=True, verbose=True):\n",
    "\n",
    "    matches = [(match.start(), match, regex) for regex in format_dict.keys() \n",
    "               for match in re.finditer(regex, content)]\n",
    "    print(matches)\n",
    "    if ensure_order:\n",
    "        matches.sort(key= lambda x: x[0])\n",
    "    \n",
    "    print(len(matches), ' matches:')\n",
    "    res = []\n",
    "    for _, match_i, regex_i in matches:\n",
    "        res.append(datetime.strptime(match_i.group(1), format_dict[regex_i]))\n",
    "        \n",
    "        if verbose:\n",
    "            print(match_i.group(1), regex_i)\n",
    "            print(format_dict[regex_], '\\n')\n",
    "\n",
    "    return res\n",
    "\n",
    "match_and_format(content, date_formats)\n"
   ]
  },
  {
   "cell_type": "markdown",
   "metadata": {},
   "source": [
    "So far I have explixitly written the fuction I used for formating our match in our processing loop, but what we can also use the dictionary to supply arbitrary functions. So I defined a couple of simple mathematical function blow. Inside the code of a predifined function we put the content of format_dict inside the mapping variable. \n",
    "\n",
    "But now we are left with a new problem, what if we have predifined method parameters, like the C-Date Format for the strptime function? The way we have built the it we would have to write a function for each different date format. That's not what I meant with I want do make  this nice and beautiful. So some more tinkering. "
   ]
  },
  {
   "cell_type": "code",
   "execution_count": 44,
   "metadata": {},
   "outputs": [
    {
     "name": "stdout",
     "output_type": "stream",
     "text": [
      "3  matches:\n",
      "('1', '2') ([\\d]{1,3})\\+([\\d]{1,3})\n",
      "<function my_add at 0x7f832bf3f510>\n",
      "[3] \n",
      "\n",
      "('15', '10') ([\\d]{1,3})\\+([\\d]{1,3})\n",
      "<function my_add at 0x7f832bf3f510>\n",
      "[3, 25] \n",
      "\n",
      "('1',) e{1}\\(([\\d]{1,3})\\)\n",
      "<function my_exp at 0x7f832b694d08>\n",
      "[3, 25, 2.718281828459045] \n",
      "\n",
      "[3, 25, 2.718281828459045]\n"
     ]
    }
   ],
   "source": [
    "from math import exp\n",
    "def my_add(x, y):\n",
    "    return int(x) + int(y)\n",
    "\n",
    "def my_mult(x,y):\n",
    "    return int(x) * int(y)\n",
    "\n",
    "def my_exp(x):\n",
    "    return exp(int(x))\n",
    "\n",
    "content = '1+2 15+10 e(1)'\\\n",
    "    'bla bla bla 16:45, Jan 03, 2007 (UTC) blabla'\n",
    "\n",
    "math_dict = {'([\\d]{1,3})\\+([\\d]{1,3})' : my_add,\n",
    "              '([\\d]{1,3})\\*([\\d]{1,3})' : my_mult,\n",
    "              'e{1}\\(([\\d]{1,3})\\)': my_exp}\n",
    "\n",
    "\n",
    "def match_and_format_adv(content, format_dict, ensure_order=True, verbose=True):\n",
    "\n",
    "    matches = [(match.start(), match, regex) for regex in format_dict.keys() for match in re.finditer(regex, content)]\n",
    "    if ensure_order:\n",
    "        matches.sort(key= lambda x: x[0])\n",
    "        \n",
    "    print(len(matches), ' matches:')\n",
    "    res = []\n",
    "    for _, match_i, regex_i in matches:\n",
    "        mapping = format_dict[regex_i]\n",
    "        res.append(mapping(*match_i.groups()))\n",
    "        \n",
    "        if verbose:\n",
    "            print(match_i.groups(), regex_i)       \n",
    "            print(format_dict[regex_i])\n",
    "            print(res, '\\n')\n",
    "    return res\n",
    "\n",
    "print(match_and_format_adv(content, math_dict))\n"
   ]
  },
  {
   "cell_type": "code",
   "execution_count": 45,
   "metadata": {},
   "outputs": [
    {
     "name": "stdout",
     "output_type": "stream",
     "text": [
      "3  matches:\n",
      "('1', '2') ([\\d]{1,3})\\+([\\d]{1,3})\n",
      "<function my_add at 0x7f832bf3f510>\n",
      "[3] \n",
      "\n",
      "('15', '10') ([\\d]{1,3})\\+([\\d]{1,3})\n",
      "<function my_add at 0x7f832bf3f510>\n",
      "[3, 25] \n",
      "\n",
      "('1',) e{1}\\(([\\d]{1,3})\\)\n",
      "<function my_exp at 0x7f832b694d08>\n",
      "[3, 25, 2.718281828459045] \n",
      "\n",
      "[3, 25, 2.718281828459045]\n"
     ]
    }
   ],
   "source": [
    "def match_and_format_sortable(content, format_dict, ensure_order=True ,verbose=True):\n",
    "\n",
    "    matches = [(match.start(), match, regex) for regex in format_dict.keys() \n",
    "               for match in re.finditer(regex, content)]\n",
    "    if ensure_order:\n",
    "        matches.sort(key= lambda x: x[0])\n",
    "    \n",
    "    print(len(matches), ' matches:')\n",
    "    res = []\n",
    "    for _, match_i, regex_i in matches:\n",
    "        mapping = format_dict[regex_i]\n",
    "        res.append(mapping(*match_i.groups()))\n",
    "        \n",
    "        if verbose:\n",
    "            print(match_i.groups(), regex_i)       \n",
    "            print(format_dict[regex_i])\n",
    "            print(res, '\\n')            \n",
    "    return res\n",
    "\n",
    "print(match_and_format_adv(content, math_dict))"
   ]
  },
  {
   "cell_type": "markdown",
   "metadata": {},
   "source": [
    "\n",
    "\n",
    "\n",
    "\n",
    "\n",
    "So if we want supply parameters to our function we will have to store them with the function. Now there are basically 3 cases that we have to be able to handle. \n",
    "\n",
    "1) we only want to return the content of our match\n",
    "\n",
    "2) we want to supply the content of our match to a function \n",
    "\n",
    "3) we want to supply the content of our match + some predefined parameters to a function\n",
    "\n",
    "How we archive 2) we have already figured out. 1) we have ignored so far. So let's look a 3). \n",
    "\n",
    "So I figured what I need is a general wrapper for my functions. You can see that it is called with the matched strings first and then with the predefined parameters second. So as long as we can ensure, that's the order our function expects its inputs, we can ensure it to be exectued correctly.\n",
    "\n",
    "\n",
    "Now what else could I optimize. I wonder if there is a better way of handeling the type conversions. Because there is still a case that my solution can't handle nicely. Everytime a function needs input differnet that string, I have to write a new function. Anybody could think about how to get around this?\n",
    "The second thing I thought would be nice is to be able to select what data is actually handled. "
   ]
  },
  {
   "cell_type": "code",
   "execution_count": 10,
   "metadata": {},
   "outputs": [
    {
     "name": "stdout",
     "output_type": "stream",
     "text": [
      "Function: <built-in method strptime of type object at 0x7f6e749bf900> \n",
      " Groups: ('16:45, Jan 03, 2007',) \n",
      " Parameters: ('%H:%M, %b %d, %Y',)\n",
      "Function: <built-in method strptime of type object at 0x7f6e749bf900> \n",
      " Groups: ('16:45, Feb 05, 1997',) \n",
      " Parameters: ('%H:%M, %b %d, %Y',)\n",
      "Function: <built-in method strptime of type object at 0x7f6e749bf900> \n",
      " Groups: ('16:45, Jan 05, 2007',) \n",
      " Parameters: ('%H:%M, %b %d, %Y',)\n",
      "Function: <function my_add at 0x7f6e422c9ae8> \n",
      " Groups: ('1', '2') \n",
      " Parameters: ()\n",
      "Function: <function my_add at 0x7f6e422c9ae8> \n",
      " Groups: ('15', '10') \n",
      " Parameters: ()\n",
      "Function: None \n",
      " Groups: ('START',) \n",
      " Parameters: ()\n",
      "[datetime.datetime(2007, 1, 3, 16, 45),\n",
      " datetime.datetime(1997, 2, 5, 16, 45),\n",
      " datetime.datetime(2007, 1, 5, 16, 45),\n",
      " 3,\n",
      " 25,\n",
      " ('START',)]\n"
     ]
    }
   ],
   "source": [
    "content = '1+2 15+10 15**2' \\\n",
    "   'bla bla bla 16:45, Jan 03, 2007 (UTC) blabla' \\\n",
    "          '16:45, 13 May 2018 (UTC)' \\\n",
    "          '16:45, Feb 05, 1997 (UTC) blabla'\\\n",
    "          '16:45, Jan 05, 2007 (UTC) blabla'\\\n",
    "        'START'\n",
    "\n",
    "\n",
    "def my_wrapper(func, groups, param):\n",
    "    print(f'Function: {func} \\n Groups: {groups} \\n Parameters: {param}')\n",
    "    if func:\n",
    "        return func(*groups, *param)\n",
    "    else:\n",
    "        return groups\n",
    "\n",
    "def my_add(x,y):\n",
    "    return int(x) + int(y)\n",
    "\n",
    "wrapper_formats = {\n",
    "    '([\\d]{2}:[\\d]{2}, [a-zA-Z]{3} [\\d]{1,2}, [\\d]{4}) \\(UTC\\)': \n",
    "    (datetime.strptime, '%H:%M, %b %d, %Y'),\n",
    "    '([A-Z][a-z]{3,8} [\\\\d]{1,2}, [\\d]{4} [\\d]{2}:[\\d]{2}) \\(UTC\\)': \n",
    "    (datetime.strptime, '%B %d, %Y %H:%M'),\n",
    "    '(\\d{1,3})\\+(\\d{1,3})' : \n",
    "    (my_add, ),\n",
    "    '(START)' : (None,)\n",
    "}\n",
    "\n",
    "def match_and_format_func(content, format_dict, ensure_order=True ,verbose=True):\n",
    "    \n",
    "    matches = [(match.start, match, regex) for regex in format_dict.keys() \n",
    "               for match in re.finditer(regex, content)]\n",
    "    \n",
    "    \n",
    "    res = []\n",
    "    for _, match_i, regex_i in matches:\n",
    "            func = format_dict[regex_i][0]\n",
    "            groups = match_i.groups()\n",
    "            param = format_dict[regex_i][1:]\n",
    "            tmp = my_wrapper(func, groups, param )\n",
    "            res.append(tmp)\n",
    "    \n",
    "    #res = [my_wrapper(format_dict[regex_i][0], match_i.groups() , format_dict[regex_i][1:]) \n",
    "           # for _, match_i, regex_i in matches]    \n",
    "    re\n",
    "    return res\n",
    "\n",
    "res = match_and_format_func(content, wrapper_formats, False, False)\n",
    "pprint(res)"
   ]
  }
 ],
 "metadata": {
  "kernelspec": {
   "display_name": "Python 3",
   "language": "python",
   "name": "python3"
  },
  "language_info": {
   "codemirror_mode": {
    "name": "ipython",
    "version": 3
   },
   "file_extension": ".py",
   "mimetype": "text/x-python",
   "name": "python",
   "nbconvert_exporter": "python",
   "pygments_lexer": "ipython3",
   "version": "3.7.1"
  }
 },
 "nbformat": 4,
 "nbformat_minor": 2
}
