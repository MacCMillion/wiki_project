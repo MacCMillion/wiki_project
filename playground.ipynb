{
 "cells": [
  {
   "cell_type": "code",
   "execution_count": 2,
   "metadata": {},
   "outputs": [],
   "source": [
    "import pandas as pd\n",
    "import numpy as np\n",
    "import pickle\n",
    "from collections import Counter\n",
    "from datetime import datetime\n",
    "import string\n",
    "import re\n",
    "from dataclasses import dataclass\n",
    "from importlib import reload as irl\n",
    "#from revision import Revision\n",
    "\n",
    "#import sklearn.feature_extraction "
   ]
  },
  {
   "cell_type": "code",
   "execution_count": 30,
   "metadata": {},
   "outputs": [],
   "source": [
    "df = pd.DataFrame({'A' : np.arange(10), 'B' : np.arange(10)})\n",
    "\n",
    "def addieren(x,y):\n",
    "    res = x +y\n",
    "    return res"
   ]
  },
  {
   "cell_type": "code",
   "execution_count": 5,
   "metadata": {},
   "outputs": [],
   "source": [
    "with open('./res/res.pkl', 'rb') as f:\n",
    "    res = pickle.load(f)\n",
    "\n",
    "\n",
    "df = pd.DataFrame()\n",
    "for i, entry in enumerate(res):\n",
    "    title, dates = entry[0][0], entry[1:]\n",
    "    start, end = np.sort(dates)[[0,-1]]\n",
    "    df[i] = [title, start, end]\n",
    "\n",
    "df = df.transpose()\n",
    "df.columns = ['title', 'nomination', 'last_comment']\n",
    "df[['nomination', 'last_comment']] = df[['nomination', 'last_comment']].applymap(lambda x: pd.Timestamp(x))\n"
   ]
  },
  {
   "cell_type": "code",
   "execution_count": 4,
   "metadata": {},
   "outputs": [
    {
     "ename": "NameError",
     "evalue": "name 'date' is not defined",
     "output_type": "error",
     "traceback": [
      "\u001b[0;31m---------------------------------------------------------------------------\u001b[0m",
      "\u001b[0;31mNameError\u001b[0m                                 Traceback (most recent call last)",
      "\u001b[0;32m<ipython-input-4-58ed4ecadebc>\u001b[0m in \u001b[0;36m<module>\u001b[0;34m()\u001b[0m\n\u001b[0;32m----> 1\u001b[0;31m \u001b[0mpd\u001b[0m\u001b[0;34m.\u001b[0m\u001b[0mDataFrame\u001b[0m\u001b[0;34m(\u001b[0m\u001b[0mcolumns\u001b[0m\u001b[0;34m=\u001b[0m\u001b[0;34m[\u001b[0m\u001b[0;34m'title'\u001b[0m\u001b[0;34m,\u001b[0m \u001b[0;34m'start'\u001b[0m\u001b[0;34m,\u001b[0m \u001b[0;34m'last'\u001b[0m\u001b[0;34m]\u001b[0m\u001b[0;34m,\u001b[0m \u001b[0mdtype\u001b[0m\u001b[0;34m=\u001b[0m\u001b[0;34m(\u001b[0m\u001b[0mstr\u001b[0m\u001b[0;34m,\u001b[0m \u001b[0mdate\u001b[0m\u001b[0;34m)\u001b[0m\u001b[0;34m)\u001b[0m\u001b[0;34m\u001b[0m\u001b[0m\n\u001b[0m",
      "\u001b[0;31mNameError\u001b[0m: name 'date' is not defined"
     ]
    }
   ],
   "source": [
    "pd.DataFrame(columns=['title', 'start', 'last'], dtype=(str, date))"
   ]
  },
  {
   "cell_type": "code",
   "execution_count": 3,
   "metadata": {},
   "outputs": [
    {
     "name": "stdout",
     "output_type": "stream",
     "text": [
      "2003-06-24 22:56:53\n",
      "2017-01-18 11:16:22\n"
     ]
    }
   ],
   "source": [
    "with open('./res/article_dict.pkl', 'rb') as f:\n",
    "    d = pickle.load(f)\n",
    "    ts_min = datetime.strptime('2100', '%Y')\n",
    "    ts_max = datetime.strptime('1900', '%Y')\n",
    "    for article, ts_l in d.items():\n",
    "        for ts in ts_l:\n",
    "            if ts < ts_min:\n",
    "                ts_min = ts\n",
    "            if ts > ts_max:\n",
    "                ts_max = ts\n",
    "\n",
    "print(ts_min)\n",
    "print(ts_max)"
   ]
  },
  {
   "cell_type": "code",
   "execution_count": 4,
   "metadata": {},
   "outputs": [],
   "source": [
    "with open('./res/article_dict.pkl', 'rb') as f:\n",
    "    d = pickle.load(f)\n",
    "    list(d.keys())"
   ]
  },
  {
   "cell_type": "code",
   "execution_count": null,
   "metadata": {},
   "outputs": [],
   "source": [
    "\n",
    "\n",
    "        \n",
    "    "
   ]
  },
  {
   "cell_type": "code",
   "execution_count": 7,
   "metadata": {},
   "outputs": [
    {
     "name": "stdout",
     "output_type": "stream",
     "text": [
      "2017-01-18 11:16:22\n",
      "2003-06-24 21:33:26\n",
      "a. in nominations: 4065\n",
      "a. in ends: 10850\n",
      "Try to match on unprocessed titles:\n",
      "a. found (0 / 4065)\n",
      "a. remaining: 4065\n",
      "\n",
      "newest in nominations:  2004-01-09 02:53:00\n",
      "newest in found:  nan\n",
      "newest in not_found:  2004-01-09 02:53:00\n",
      "\n",
      "oldest in nominations:  2017-03-13 13:52:00\n",
      "oldest in found:  nan\n",
      "oldest in not_found:  2017-03-13 13:52:00\n",
      "\n",
      " Try to match on lower case title without punctuation:\n",
      "Remaining: 2488\n"
     ]
    }
   ],
   "source": [
    "def preprocess_line(colum, lower=True):   \n",
    "    pattern = '|'.join([re.escape(x) for x in string.punctuation])\n",
    "    if lower:\n",
    "        colum  = colum.str.lower()\n",
    "    colum = colum.apply(lambda x: re.sub(pattern, '', x))\n",
    "    \n",
    "    return colum\n",
    "\n",
    "with open('./res/article_dict_rev.pkl', 'rb') as f:\n",
    "    ends_dict_rev = pickle.load(f)\n",
    "    print(max(ends_dict_rev.keys()))\n",
    "    print(min(ends_dict_rev.keys()))\n",
    "\n",
    "    counts = Counter()\n",
    "    ends_dict = {}\n",
    "    for ts, articles in ends_dict_rev.items():\n",
    "        counts[ts] += 1\n",
    "        for article in articles:\n",
    "            if article not in ends_dict:\n",
    "                ends_dict[article] = [ts]\n",
    "            else:\n",
    "                ends_dict[article].append(ts)            \n",
    "    \n",
    "            \n",
    "    \n",
    "    with open('./res/article_dict.pkl', 'rb') as f:\n",
    "        ends_dict = pickle.load(f)\n",
    "        df_ends = pd.DataFrame([[key, min(value), max(value)] for key, value in ends_dict.items()])\n",
    "        df_ends.columns = ['title', 'first', 'last']\n",
    "        df_ends.to_csv('./res/ends.csv', sep=';')\n",
    "\n",
    "    nominations = pd.read_csv('./data/FAC_nomination.csv', sep=';')\n",
    "    \n",
    "    article_names_nom = set(nominations['title'])\n",
    "    article_names_ends = set(df_ends['title'])\n",
    "    \n",
    "    nominations = nominations.drop_duplicates('title')\n",
    "    not_found = nominations.loc[~nominations.title.isin(article_names_ends),:]\n",
    "    found = nominations.loc[nominations.title.isin(article_names_ends),:]\n",
    "\n",
    "    print(f'a. in nominations: {nominations.shape[0]}', )\n",
    "    print(f'a. in ends: {df_ends.shape[0]}')\n",
    "    print('Try to match on unprocessed titles:')\n",
    "    print(f'a. found ({found.shape[0]} / {nominations.shape[0]})' )\n",
    "    print(f'a. remaining: {not_found.shape[0]}')\n",
    "    print()\n",
    "    print('newest in nominations: ', nominations.nomination.min())\n",
    "    print('newest in found: ', found.nomination.min())\n",
    "    print('newest in not_found: ', not_found.nomination.min())\n",
    "    print('')\n",
    "\n",
    "    print('oldest in nominations: ', nominations.nomination.max())\n",
    "    print('oldest in found: ', found.nomination.max())\n",
    "    print('oldest in not_found: ', not_found.nomination.max())\n",
    "    \n",
    "    print(f'\\n Try to match on lower case title without punctuation:')\n",
    "    \n",
    "    \n",
    "    df_ends['title_prep'] = preprocess_line(df_ends.title) \n",
    "    not_found['title_prep'] = preprocess_line(not_found.title) \n",
    "    \n",
    "    not_found = not_found.loc[not_found.title_prep.isin(df_ends.title_prep),:]\n",
    "    print(f'Remaining: {not_found.shape[0]}')\n",
    "\n"
   ]
  },
  {
   "cell_type": "code",
   "execution_count": 18,
   "metadata": {},
   "outputs": [
    {
     "name": "stdout",
     "output_type": "stream",
     "text": [
      "1450\n",
      "9\n"
     ]
    }
   ],
   "source": [
    "import re\n",
    "\n",
    "\n",
    "\n",
    "\n",
    "    \n",
    "df_ends = pd.read_csv('./res/ends.csv', sep=';')\n",
    "article_names_ends = set(df_ends.title)\n",
    "not_found = pd.read_csv('./res/FAC_nomination.csv', sep=';')\n",
    "not_found = not_found.drop_duplicates('title')\n",
    "not_found = not_found.loc[~not_found.title.isin(article_names_ends),:]\n",
    "    \n",
    "\n",
    "\n",
    "def preprocess_line(colum, lower=True):   \n",
    "    pattern = '|'.join([re.escape(x) for x in string.punctuation])\n",
    "    if lower:\n",
    "        colum  = colum.str.lower()\n",
    "    colum = colum.apply(lambda x: re.sub(pattern, '', x))    \n",
    "    return colum\n",
    "\n",
    "\n",
    "df_ends['title_prep'] = preprocess_line(df_ends.title) \n",
    "not_found['title_prep'] = preprocess_line(not_found.title) \n",
    "\n",
    "print(not_found.shape[0])\n",
    "not_found = not_found.loc[not_found.title_prep.isin(df_ends.title_prep),:]\n",
    "print(not_found.shape[0])\n",
    "\n",
    "\n"
   ]
  },
  {
   "cell_type": "code",
   "execution_count": 9,
   "metadata": {},
   "outputs": [
    {
     "data": {
      "text/plain": [
       "'\\\\,|\\\\.|\\\\\"|\\\\:|\\\\)|\\\\(|\\\\-|\\\\!|\\\\?|\\\\||\\\\;|\\\\\\'|\\\\$|\\\\&|\\\\/|\\\\[|\\\\]|\\\\>|\\\\%|\\\\=|\\\\#|\\\\*|\\\\+|\\\\\\\\|\\\\•|\\\\~|\\\\@|\\\\£|\\\\·|_|\\\\{|\\\\}|\\\\©|\\\\^|\\\\®|\\\\`|\\\\<|\\\\→|\\\\°|\\\\€|\\\\™|\\\\›|\\\\♥|\\\\←|\\\\×|\\\\§|\\\\″|\\\\′|\\\\Â|\\\\█|\\\\½|\\\\à|\\\\…|\\\\“|\\\\★|\\\\”|\\\\–|\\\\●|\\\\â|\\\\►|\\\\−|\\\\¢|\\\\²|\\\\¬|\\\\░|\\\\¶|\\\\↑|\\\\±|\\\\¿|\\\\▾|\\\\═|\\\\¦|\\\\║|\\\\―|\\\\¥|\\\\▓|\\\\—|\\\\‹|\\\\─|\\\\▒|\\\\：|\\\\¼|\\\\⊕|\\\\▼|\\\\▪|\\\\†|\\\\■|\\\\’|\\\\▀|\\\\¨|\\\\▄|\\\\♫|\\\\☆|\\\\é|\\\\¯|\\\\♦|\\\\¤|\\\\▲|\\\\è|\\\\¸|\\\\¾|\\\\Ã|\\\\⋅|\\\\‘|\\\\∞|\\\\∙|\\\\）|\\\\↓|\\\\、|\\\\│|\\\\（|\\\\»|\\\\，|\\\\♪|\\\\╩|\\\\╚|\\\\³|\\\\・|\\\\╦|\\\\╣|\\\\╔|\\\\╗|\\\\▬|\\\\❤|\\\\ï|\\\\Ø|\\\\¹|\\\\≤|\\\\‡|\\\\√'"
      ]
     },
     "execution_count": 9,
     "metadata": {},
     "output_type": "execute_result"
    }
   ],
   "source": [
    "s = '()'\n",
    "p = '\\('\n",
    "puncts = [',', '.', '\"', ':', ')', '(', '-', '!', '?', '|', ';', \"'\", '$', '&', '/', '[', ']', '>', '%', '=', '#', '*', '+', '\\\\', '•',  '~', '@', '£', \n",
    " '·', '_', '{', '}', '©', '^', '®', '`',  '<', '→', '°', '€', '™', '›',  '♥', '←', '×', '§', '″', '′', 'Â', '█', '½', 'à', '…', \n",
    " '“', '★', '”', '–', '●', 'â', '►', '−', '¢', '²', '¬', '░', '¶', '↑', '±', '¿', '▾', '═', '¦', '║', '―', '¥', '▓', '—', '‹', '─', \n",
    " '▒', '：', '¼', '⊕', '▼', '▪', '†', '■', '’', '▀', '¨', '▄', '♫', '☆', 'é', '¯', '♦', '¤', '▲', 'è', '¸', '¾', 'Ã', '⋅', '‘', '∞', \n",
    " '∙', '）', '↓', '、', '│', '（', '»', '，', '♪', '╩', '╚', '³', '・', '╦', '╣', '╔', '╗', '▬', '❤', 'ï', 'Ø', '¹', '≤', '‡', '√', ]\n",
    "puncts = [re.escape(x) for x in puncts]\n",
    "pattern = '|'.join(puncts)\n",
    "\n",
    "re.sub(pattern, '', s)\n",
    "pattern\n",
    "\n"
   ]
  },
  {
   "cell_type": "code",
   "execution_count": 76,
   "metadata": {},
   "outputs": [
    {
     "data": {
      "text/html": [
       "<div>\n",
       "<style scoped>\n",
       "    .dataframe tbody tr th:only-of-type {\n",
       "        vertical-align: middle;\n",
       "    }\n",
       "\n",
       "    .dataframe tbody tr th {\n",
       "        vertical-align: top;\n",
       "    }\n",
       "\n",
       "    .dataframe thead th {\n",
       "        text-align: right;\n",
       "    }\n",
       "</style>\n",
       "<table border=\"1\" class=\"dataframe\">\n",
       "  <thead>\n",
       "    <tr style=\"text-align: right;\">\n",
       "      <th></th>\n",
       "      <th>title</th>\n",
       "      <th>first</th>\n",
       "      <th>last</th>\n",
       "      <th>title_prep</th>\n",
       "    </tr>\n",
       "  </thead>\n",
       "  <tbody>\n",
       "    <tr>\n",
       "      <th>248</th>\n",
       "      <td>HMS Conway School Ship</td>\n",
       "      <td>2005-01-03 00:04:36</td>\n",
       "      <td>2005-01-10 07:11:41</td>\n",
       "      <td>hms conway school ship</td>\n",
       "    </tr>\n",
       "  </tbody>\n",
       "</table>\n",
       "</div>"
      ],
      "text/plain": [
       "                      title                first                 last  \\\n",
       "248  HMS Conway School Ship  2005-01-03 00:04:36  2005-01-10 07:11:41   \n",
       "\n",
       "                 title_prep  \n",
       "248  hms conway school ship  "
      ]
     },
     "execution_count": 76,
     "metadata": {},
     "output_type": "execute_result"
    }
   ],
   "source": []
  },
  {
   "cell_type": "code",
   "execution_count": null,
   "metadata": {},
   "outputs": [],
   "source": []
  },
  {
   "cell_type": "code",
   "execution_count": 92,
   "metadata": {},
   "outputs": [
    {
     "name": "stdout",
     "output_type": "stream",
     "text": [
      "Index(['title', 'first', 'last'], dtype='object') \n",
      " Index(['title', 'nomination', 'last_comment'], dtype='object')\n",
      "nominations: 4610\n",
      "articles in ends: 10850\n",
      "found: 2754\n",
      "not found: 1856\n",
      "Sanity Check: 4610 /4610\n"
     ]
    },
    {
     "name": "stderr",
     "output_type": "stream",
     "text": [
      "/home/max/anaconda3/lib/python3.6/site-packages/ipykernel_launcher.py:63: SettingWithCopyWarning: \n",
      "A value is trying to be set on a copy of a slice from a DataFrame.\n",
      "Try using .loc[row_indexer,col_indexer] = value instead\n",
      "\n",
      "See the caveats in the documentation: http://pandas.pydata.org/pandas-docs/stable/indexing.html#indexing-view-versus-copy\n",
      "/home/max/anaconda3/lib/python3.6/site-packages/ipykernel_launcher.py:71: SettingWithCopyWarning: \n",
      "A value is trying to be set on a copy of a slice from a DataFrame.\n",
      "Try using .loc[row_indexer,col_indexer] = value instead\n",
      "\n",
      "See the caveats in the documentation: http://pandas.pydata.org/pandas-docs/stable/indexing.html#indexing-view-versus-copy\n"
     ]
    },
    {
     "name": "stdout",
     "output_type": "stream",
     "text": [
      "found: 9 /1856\n",
      "not found: 1847\n",
      "found: 1760 /1847\n",
      "not found: 99\n",
      "found: 8 /99\n",
      "not found: 92\n"
     ]
    },
    {
     "name": "stderr",
     "output_type": "stream",
     "text": [
      "/home/max/anaconda3/lib/python3.6/site-packages/ipykernel_launcher.py:79: SettingWithCopyWarning: \n",
      "A value is trying to be set on a copy of a slice from a DataFrame.\n",
      "Try using .loc[row_indexer,col_indexer] = value instead\n",
      "\n",
      "See the caveats in the documentation: http://pandas.pydata.org/pandas-docs/stable/indexing.html#indexing-view-versus-copy\n"
     ]
    },
    {
     "data": {
      "text/plain": [
       "<matplotlib.axes._subplots.AxesSubplot at 0x7f2bd4c20d68>"
      ]
     },
     "execution_count": 92,
     "metadata": {},
     "output_type": "execute_result"
    },
    {
     "data": {
      "image/png": "[encoded data removed]",
      "text/plain": [
       "<Figure size 432x288 with 1 Axes>"
      ]
     },
     "metadata": {},
     "output_type": "display_data"
    }
   ],
   "source": [
    "def preprocess_line(colum, lower=True):   \n",
    "    pattern = '|'.join([re.escape(x) for x in string.punctuation])\n",
    "    if lower:\n",
    "        colum  = colum.str.lower()\n",
    "    colum = colum.apply(lambda x: re.sub(pattern, '', x))    \n",
    "    return colum\n",
    "\n",
    "def preprocess_line_2(colum, lower=True):   \n",
    "    pattern = '|'.join([re.escape(x) for x in string.punctuation])\n",
    "    if lower:\n",
    "        colum  = colum.str.lower()\n",
    "    colum = colum.apply(lambda x: re.sub(pattern, ' ', x))\n",
    "    \n",
    "    return colum\n",
    "\n",
    "def preprocess_line_3(colum, lower=True):   \n",
    "    if lower:\n",
    "        colum  = colum.str.lower()\n",
    "    \n",
    "    pattern = '\\|(.*)'\n",
    "    colum = colum.apply(lambda x: re.sub(pattern, '', x))\n",
    "    \n",
    "    pattern = '|'.join([re.escape(x) for x in string.punctuation])\n",
    "    colum =colum.apply(lambda x: re.sub(pattern, ' ', x))\n",
    "    return colum\n",
    "\n",
    "def preprocess_line_4(column):\n",
    "    column = column.str.lower()\n",
    "\n",
    "    pattern = '\\|(.*)'\n",
    "    colum = colum.apply(lambda x: re.sub(pattern, '', x))\n",
    "\n",
    "    pattern = '|'.join([re.escape(x) for x in string.punctuation])\n",
    "    colum =colum.apply(lambda x: re.sub(pattern, ' ', x))\n",
    "    \n",
    "    pattern = 'film'\n",
    "    colum = colum.apply(lambda x: re.sub(pattern, ' ', x))\n",
    "    return colum\n",
    "\n",
    "def preprocess_line_2(column):\n",
    "    column = column.str.lower()\n",
    "    pattern = '/archive1'\n",
    "    column = column.apply(lambda x: re.sub(pattern, '', x))\n",
    "    return column   \n",
    "    \n",
    "\n",
    "\n",
    "\n",
    "df_ends = pd.read_csv('./res/ends.csv', sep = ';', index_col=0)\n",
    "df_nominations = pd.read_csv('./res/FAC_nomination.csv', sep=';', index_col=0)\n",
    "print(df_ends.columns, '\\n', df_nominations.columns)\n",
    "\n",
    "print(f'nominations: {df_nominations.shape[0]}')\n",
    "print(f'articles in ends: {df_ends.shape[0]}')\n",
    "\n",
    "df_found_01 = pd.merge(df_nominations, df_ends, on='title')\n",
    "df_not_found_01 = df_nominations.loc[~df_nominations.title.isin(df_ends.title),:]\n",
    "print(f'found: {df_found_01.shape[0]}')\n",
    "print(f'not found: {df_not_found_01.shape[0]}')\n",
    "print(f'Sanity Check: {df_found_01.shape[0] + df_not_found_01.shape[0]} /{df_nominations.shape[0]}')\n",
    "\n",
    "df_ends['title_prep'] = preprocess_line(df_ends.title) \n",
    "df_not_found_01['title_prep'] = preprocess_line(df_not_found_01.title)\n",
    "\n",
    "df_found_02 = pd.merge(df_not_found_01, df_ends, on='title_prep')\n",
    "df_not_found_02 = df_not_found_01.loc[~df_not_found_01.title_prep.isin(df_ends.title_prep)]\n",
    "print(f'found: {df_found_02.shape[0]} /{ df_not_found_01.shape[0]}')\n",
    "print(f'not found: {df_not_found_02.shape[0]}')\n",
    "\n",
    "df_ends['title_prep'] = preprocess_line_2(df_ends.title) \n",
    "df_not_found_02['title_prep'] = preprocess_line_2(df_not_found_02.title)\n",
    "\n",
    "df_found_03 = pd.merge(df_not_found_02, df_ends, on='title_prep')\n",
    "df_not_found_03 = df_not_found_02.loc[~df_not_found_02.title_prep.isin(df_ends.title_prep)]\n",
    "print(f'found: {df_found_03.shape[0]} /{ df_not_found_02.shape[0]}')\n",
    "print(f'not found: {df_not_found_03.shape[0]}')\n",
    "\n",
    "df_ends['title_prep'] = preprocess_line_3(df_ends.title) \n",
    "df_not_found_03['title_prep'] = preprocess_line_3(df_not_found_03.title)\n",
    "\n",
    "df_found_04 = pd.merge(df_not_found_03, df_ends, on='title_prep')\n",
    "df_not_found_04 = df_not_found_03.loc[~df_not_found_03.title_prep.isin(df_ends.title_prep)]\n",
    "print(f'found: {df_found_04.shape[0]} /{ df_not_found_03.shape[0]}')\n",
    "print(f'not found: {df_not_found_04.shape[0]}')\n",
    "\n",
    "#display(\n",
    "#df_ends.loc[df_ends.title_prep.str.contains('bidder')],\n",
    "#df_not_found_02.loc[df_not_found_02.title_prep.str.contains('bidder')])\n",
    "\n",
    "\n",
    "df_found_01['nomination'] = pd.to_datetime(df_found_01['nomination'])\n",
    "df_found_01 = df_found_01.set_index('nomination')\n",
    "df_found_ts = df_found_01['title'].resample('W').count()\n",
    "df_found_ts.plot.bar()"
   ]
  },
  {
   "cell_type": "code",
   "execution_count": 156,
   "metadata": {},
   "outputs": [
    {
     "data": {
      "text/html": [
       "<div>\n",
       "<style scoped>\n",
       "    .dataframe tbody tr th:only-of-type {\n",
       "        vertical-align: middle;\n",
       "    }\n",
       "\n",
       "    .dataframe tbody tr th {\n",
       "        vertical-align: top;\n",
       "    }\n",
       "\n",
       "    .dataframe thead th {\n",
       "        text-align: right;\n",
       "    }\n",
       "</style>\n",
       "<table border=\"1\" class=\"dataframe\">\n",
       "  <thead>\n",
       "    <tr style=\"text-align: right;\">\n",
       "      <th></th>\n",
       "      <th>title</th>\n",
       "      <th>nomination</th>\n",
       "      <th>last_comment</th>\n",
       "      <th>title_prep</th>\n",
       "    </tr>\n",
       "  </thead>\n",
       "  <tbody>\n",
       "    <tr>\n",
       "      <th>82</th>\n",
       "      <td>User:Bishonen/Antique toilet paper holder</td>\n",
       "      <td>2005-02-10 09:52:00</td>\n",
       "      <td>2005-02-13 20:35:00</td>\n",
       "      <td>user bishonen antique toilet paper holder</td>\n",
       "    </tr>\n",
       "    <tr>\n",
       "      <th>136</th>\n",
       "      <td>2001: A Space Odyssey (film)|2001: A Space Ody...</td>\n",
       "      <td>2005-03-13 00:58:00</td>\n",
       "      <td>2005-07-22 15:23:00</td>\n",
       "      <td>2001  a space odyssey  film</td>\n",
       "    </tr>\n",
       "    <tr>\n",
       "      <th>161</th>\n",
       "      <td>TV/FM DX</td>\n",
       "      <td>2005-04-25 20:52:00</td>\n",
       "      <td>2005-04-27 20:04:00</td>\n",
       "      <td>tv fm dx</td>\n",
       "    </tr>\n",
       "    <tr>\n",
       "      <th>182</th>\n",
       "      <td>I am cuba</td>\n",
       "      <td>2005-04-10 20:31:00</td>\n",
       "      <td>2005-04-11 20:06:00</td>\n",
       "      <td>i am cuba</td>\n",
       "    </tr>\n",
       "    <tr>\n",
       "      <th>189</th>\n",
       "      <td>Lodz Ghetto</td>\n",
       "      <td>2005-04-09 23:14:00</td>\n",
       "      <td>2005-04-10 10:29:00</td>\n",
       "      <td>lodz ghetto</td>\n",
       "    </tr>\n",
       "    <tr>\n",
       "      <th>201</th>\n",
       "      <td>New York City Subway nomenclature</td>\n",
       "      <td>2005-03-28 02:08:00</td>\n",
       "      <td>2005-04-03 19:04:00</td>\n",
       "      <td>new york city subway nomenclature</td>\n",
       "    </tr>\n",
       "    <tr>\n",
       "      <th>238</th>\n",
       "      <td>Kentucky Derby</td>\n",
       "      <td>2005-05-07 13:31:00</td>\n",
       "      <td>2005-05-22 21:24:00</td>\n",
       "      <td>kentucky derby</td>\n",
       "    </tr>\n",
       "    <tr>\n",
       "      <th>239</th>\n",
       "      <td>Alan Watts</td>\n",
       "      <td>2005-05-07 06:35:00</td>\n",
       "      <td>2005-05-10 19:57:00</td>\n",
       "      <td>alan watts</td>\n",
       "    </tr>\n",
       "    <tr>\n",
       "      <th>259</th>\n",
       "      <td>San Francisco-Oakland Bay Bridge</td>\n",
       "      <td>2005-04-26 07:11:00</td>\n",
       "      <td>2005-05-06 08:00:00</td>\n",
       "      <td>san francisco oakland bay bridge</td>\n",
       "    </tr>\n",
       "    <tr>\n",
       "      <th>263</th>\n",
       "      <td>Whale sound|Whale song</td>\n",
       "      <td>2005-05-02 02:45:00</td>\n",
       "      <td>2005-05-06 07:40:00</td>\n",
       "      <td>whale sound</td>\n",
       "    </tr>\n",
       "  </tbody>\n",
       "</table>\n",
       "</div>"
      ],
      "text/plain": [
       "                                                 title           nomination  \\\n",
       "82           User:Bishonen/Antique toilet paper holder  2005-02-10 09:52:00   \n",
       "136  2001: A Space Odyssey (film)|2001: A Space Ody...  2005-03-13 00:58:00   \n",
       "161                                           TV/FM DX  2005-04-25 20:52:00   \n",
       "182                                          I am cuba  2005-04-10 20:31:00   \n",
       "189                                        Lodz Ghetto  2005-04-09 23:14:00   \n",
       "201                  New York City Subway nomenclature  2005-03-28 02:08:00   \n",
       "238                                     Kentucky Derby  2005-05-07 13:31:00   \n",
       "239                                         Alan Watts  2005-05-07 06:35:00   \n",
       "259                  San Francisco-Oakland Bay Bridge   2005-04-26 07:11:00   \n",
       "263                             Whale sound|Whale song  2005-05-02 02:45:00   \n",
       "\n",
       "            last_comment                                 title_prep  \n",
       "82   2005-02-13 20:35:00  user bishonen antique toilet paper holder  \n",
       "136  2005-07-22 15:23:00               2001  a space odyssey  film   \n",
       "161  2005-04-27 20:04:00                                   tv fm dx  \n",
       "182  2005-04-11 20:06:00                                  i am cuba  \n",
       "189  2005-04-10 10:29:00                                lodz ghetto  \n",
       "201  2005-04-03 19:04:00          new york city subway nomenclature  \n",
       "238  2005-05-22 21:24:00                             kentucky derby  \n",
       "239  2005-05-10 19:57:00                                 alan watts  \n",
       "259  2005-05-06 08:00:00          san francisco oakland bay bridge   \n",
       "263  2005-05-06 07:40:00                                whale sound  "
      ]
     },
     "metadata": {},
     "output_type": "display_data"
    },
    {
     "data": {
      "text/html": [
       "<div>\n",
       "<style scoped>\n",
       "    .dataframe tbody tr th:only-of-type {\n",
       "        vertical-align: middle;\n",
       "    }\n",
       "\n",
       "    .dataframe tbody tr th {\n",
       "        vertical-align: top;\n",
       "    }\n",
       "\n",
       "    .dataframe thead th {\n",
       "        text-align: right;\n",
       "    }\n",
       "</style>\n",
       "<table border=\"1\" class=\"dataframe\">\n",
       "  <thead>\n",
       "    <tr style=\"text-align: right;\">\n",
       "      <th></th>\n",
       "      <th>title</th>\n",
       "      <th>first</th>\n",
       "      <th>last</th>\n",
       "      <th>title_prep</th>\n",
       "    </tr>\n",
       "  </thead>\n",
       "  <tbody>\n",
       "    <tr>\n",
       "      <th>594</th>\n",
       "      <td>Whale song</td>\n",
       "      <td>2005-05-02 02:46:53</td>\n",
       "      <td>2005-05-24 04:46:54</td>\n",
       "      <td>whale song</td>\n",
       "    </tr>\n",
       "    <tr>\n",
       "      <th>621</th>\n",
       "      <td>Blue Whale</td>\n",
       "      <td>2005-05-14 16:22:29</td>\n",
       "      <td>2005-05-19 06:51:56</td>\n",
       "      <td>blue whale</td>\n",
       "    </tr>\n",
       "    <tr>\n",
       "      <th>1666</th>\n",
       "      <td>Right whale</td>\n",
       "      <td>2006-05-02 12:20:46</td>\n",
       "      <td>2006-05-17 02:53:19</td>\n",
       "      <td>right whale</td>\n",
       "    </tr>\n",
       "    <tr>\n",
       "      <th>2319</th>\n",
       "      <td>Fin Whale</td>\n",
       "      <td>2006-10-03 07:38:37</td>\n",
       "      <td>2006-11-11 16:56:07</td>\n",
       "      <td>fin whale</td>\n",
       "    </tr>\n",
       "    <tr>\n",
       "      <th>2524</th>\n",
       "      <td>Sei Whale</td>\n",
       "      <td>2006-11-27 20:34:41</td>\n",
       "      <td>2006-12-20 16:07:21</td>\n",
       "      <td>sei whale</td>\n",
       "    </tr>\n",
       "    <tr>\n",
       "      <th>5183</th>\n",
       "      <td>James Whale</td>\n",
       "      <td>2009-01-16 01:55:36</td>\n",
       "      <td>2009-01-30 16:47:07</td>\n",
       "      <td>james whale</td>\n",
       "    </tr>\n",
       "    <tr>\n",
       "      <th>9105</th>\n",
       "      <td>Sperm whale/archive1</td>\n",
       "      <td>2013-08-04 17:24:51</td>\n",
       "      <td>2013-08-06 00:01:36</td>\n",
       "      <td>sperm whale archive1</td>\n",
       "    </tr>\n",
       "    <tr>\n",
       "      <th>10272</th>\n",
       "      <td>Whale/archive1</td>\n",
       "      <td>2015-09-11 02:09:05</td>\n",
       "      <td>2015-09-25 11:09:12</td>\n",
       "      <td>whale archive1</td>\n",
       "    </tr>\n",
       "    <tr>\n",
       "      <th>10510</th>\n",
       "      <td>Baleen whale/archive1</td>\n",
       "      <td>2016-03-20 23:58:06</td>\n",
       "      <td>2016-05-18 02:25:10</td>\n",
       "      <td>baleen whale archive1</td>\n",
       "    </tr>\n",
       "  </tbody>\n",
       "</table>\n",
       "</div>"
      ],
      "text/plain": [
       "                       title                first                 last  \\\n",
       "594               Whale song  2005-05-02 02:46:53  2005-05-24 04:46:54   \n",
       "621               Blue Whale  2005-05-14 16:22:29  2005-05-19 06:51:56   \n",
       "1666             Right whale  2006-05-02 12:20:46  2006-05-17 02:53:19   \n",
       "2319               Fin Whale  2006-10-03 07:38:37  2006-11-11 16:56:07   \n",
       "2524               Sei Whale  2006-11-27 20:34:41  2006-12-20 16:07:21   \n",
       "5183             James Whale  2009-01-16 01:55:36  2009-01-30 16:47:07   \n",
       "9105    Sperm whale/archive1  2013-08-04 17:24:51  2013-08-06 00:01:36   \n",
       "10272         Whale/archive1  2015-09-11 02:09:05  2015-09-25 11:09:12   \n",
       "10510  Baleen whale/archive1  2016-03-20 23:58:06  2016-05-18 02:25:10   \n",
       "\n",
       "                  title_prep  \n",
       "594               whale song  \n",
       "621               blue whale  \n",
       "1666             right whale  \n",
       "2319               fin whale  \n",
       "2524               sei whale  \n",
       "5183             james whale  \n",
       "9105    sperm whale archive1  \n",
       "10272         whale archive1  \n",
       "10510  baleen whale archive1  "
      ]
     },
     "metadata": {},
     "output_type": "display_data"
    }
   ],
   "source": [
    "\n",
    "display(df_not_found_04.iloc[0:10,])\n",
    "display(df_ends.loc[df_ends.title_prep.str.contains('whale'),])"
   ]
  },
  {
   "cell_type": "code",
   "execution_count": 35,
   "metadata": {},
   "outputs": [
    {
     "data": {
      "text/plain": [
       "<matplotlib.axes._subplots.AxesSubplot at 0x7f2bd689b048>"
      ]
     },
     "execution_count": 35,
     "metadata": {},
     "output_type": "execute_result"
    },
    {
     "data": {
      "image/png": "[encoded data removed]",
      "text/plain": [
       "<Figure size 432x288 with 1 Axes>"
      ]
     },
     "metadata": {},
     "output_type": "display_data"
    }
   ],
   "source": [
    "df = pd.read_csv('./res/FAC_nomination.csv', sep=';', parse_dates=['nomination', 'last_comment'], index_col =2)\n",
    "\n",
    "s = df['title'].resample('M').count()\n",
    "\n",
    "s.plot.bar()\n"
   ]
  },
  {
   "cell_type": "code",
   "execution_count": 19,
   "metadata": {},
   "outputs": [
    {
     "data": {
      "text/plain": [
       "<matplotlib.axes._subplots.AxesSubplot at 0x7f2bdd72e240>"
      ]
     },
     "execution_count": 19,
     "metadata": {},
     "output_type": "execute_result"
    },
    {
     "data": {
      "image/png": "[encoded data removed]",
      "text/plain": [
       "<Figure size 432x288 with 1 Axes>"
      ]
     },
     "metadata": {},
     "output_type": "display_data"
    }
   ],
   "source": [
    "df_not_found = pd.read_csv('./res/not_found.csv', sep=';', parse_dates=['nomination', 'last_comment'], index_col=2)\n",
    "s_not = df_not_found.loc['2008-11-01':'2009-12-31','title'].resample('M').count()\n",
    "s_not.plot.bar()"
   ]
  },
  {
   "cell_type": "code",
   "execution_count": 20,
   "metadata": {},
   "outputs": [
    {
     "name": "stdout",
     "output_type": "stream",
     "text": [
      "2003-06-24 22:56:53\n",
      "2017-01-18 11:16:22\n"
     ]
    },
    {
     "data": {
      "text/html": [
       "<div>\n",
       "<style scoped>\n",
       "    .dataframe tbody tr th:only-of-type {\n",
       "        vertical-align: middle;\n",
       "    }\n",
       "\n",
       "    .dataframe tbody tr th {\n",
       "        vertical-align: top;\n",
       "    }\n",
       "\n",
       "    .dataframe thead th {\n",
       "        text-align: right;\n",
       "    }\n",
       "</style>\n",
       "<table border=\"1\" class=\"dataframe\">\n",
       "  <thead>\n",
       "    <tr style=\"text-align: right;\">\n",
       "      <th></th>\n",
       "      <th>title</th>\n",
       "      <th>nomination</th>\n",
       "      <th>last_comment</th>\n",
       "    </tr>\n",
       "  </thead>\n",
       "  <tbody>\n",
       "  </tbody>\n",
       "</table>\n",
       "</div>"
      ],
      "text/plain": [
       "Empty DataFrame\n",
       "Columns: [title, nomination, last_comment]\n",
       "Index: []"
      ]
     },
     "execution_count": 20,
     "metadata": {},
     "output_type": "execute_result"
    }
   ],
   "source": [
    "print(df_ends['first'].min())\n",
    "print(df_ends['first'].max())\n",
    "\n",
    "\n",
    "df_nominations.loc[df_nominations.title.str.contains('Exmoor'),]"
   ]
  },
  {
   "cell_type": "code",
   "execution_count": 27,
   "metadata": {},
   "outputs": [
    {
     "data": {
      "text/plain": [
       "<matplotlib.axes._subplots.AxesSubplot at 0x7f2bd73bcc18>"
      ]
     },
     "execution_count": 27,
     "metadata": {},
     "output_type": "execute_result"
    },
    {
     "data": {
      "image/png": "[encoded data removed]",
      "text/plain": [
       "<Figure size 432x288 with 1 Axes>"
      ]
     },
     "metadata": {},
     "output_type": "display_data"
    }
   ],
   "source": [
    "df_not_found = pd.read_csv('./res/not_found.csv', sep=';', parse_dates=['nomination', 'last_comment'], index_col=2)\n",
    "s_not = df_not_found.loc['2009-02-01':'2009-06-30','title'].resample('w').count()\n",
    "s_not.plot.bar()"
   ]
  },
  {
   "cell_type": "code",
   "execution_count": 68,
   "metadata": {},
   "outputs": [],
   "source": [
    "df_not_found = pd.read_csv('./res/not_found.csv', sep=';', parse_dates=['nomination', 'last_comment'], index_col=2)\n",
    "df_ends = pd.read_csv('./res/ends.csv', sep =';', parse_dates=['first', 'last'], index_col=2)\n",
    "\n",
    "\n",
    "not_found_april = df_not_found.loc['2009-04':'2009-05',:]\n",
    "ends_april = df_ends.loc['2009-04':'2009-05',:]"
   ]
  },
  {
   "cell_type": "code",
   "execution_count": 94,
   "metadata": {},
   "outputs": [],
   "source": [
    "#df_nominations = pd.read_csv('./res/FAC_nomination.csv', sep=';', parse_dates=['nomination', 'last_comment'], index_col =2)\n",
    "#not_found_april.head()\n",
    "#df_nominations[df_nominations['title'].str.contains('Michigan')]\n",
    "#df_ends[df_ends['title'].str.contains('Michigan')]"
   ]
  },
  {
   "cell_type": "code",
   "execution_count": 8,
   "metadata": {},
   "outputs": [],
   "source": [
    "from pprint import  pprint\n",
    "with open('./res/revision_dict.pkl', 'rb') as f:\n",
    "    revision_dict = pickle.load(f)\n",
    "    #pprint(revision_dict)\n",
    "    "
   ]
  },
  {
   "cell_type": "code",
   "execution_count": 13,
   "metadata": {},
   "outputs": [
    {
     "ename": "NameError",
     "evalue": "name 'revision' is not defined",
     "output_type": "error",
     "traceback": [
      "\u001b[0;31m---------------------------------------------------------------------------\u001b[0m",
      "\u001b[0;31mNameError\u001b[0m                                 Traceback (most recent call last)",
      "\u001b[0;32m<ipython-input-13-9723fd9650ba>\u001b[0m in \u001b[0;36m<module>\u001b[0;34m\u001b[0m\n\u001b[1;32m      1\u001b[0m \u001b[0;32mfrom\u001b[0m \u001b[0mrevision\u001b[0m \u001b[0;32mimport\u001b[0m \u001b[0mRevision\u001b[0m\u001b[0;34m\u001b[0m\u001b[0;34m\u001b[0m\u001b[0m\n\u001b[0;32m----> 2\u001b[0;31m \u001b[0mirl\u001b[0m\u001b[0;34m(\u001b[0m\u001b[0mrevision\u001b[0m\u001b[0;34m)\u001b[0m\u001b[0;34m\u001b[0m\u001b[0;34m\u001b[0m\u001b[0m\n\u001b[0m\u001b[1;32m      3\u001b[0m \u001b[0mRevision\u001b[0m\u001b[0;34m(\u001b[0m\u001b[0mpage_title\u001b[0m \u001b[0;34m=\u001b[0m\u001b[0;34m'Augsburg'\u001b[0m\u001b[0;34m,\u001b[0m \u001b[0mpage_id\u001b[0m \u001b[0;34m=\u001b[0m \u001b[0;36m37787\u001b[0m\u001b[0;34m,\u001b[0m \u001b[0mrevision_id\u001b[0m \u001b[0;34m=\u001b[0m \u001b[0;36m231564\u001b[0m \u001b[0;34m,\u001b[0m \u001b[0mauthor_name\u001b[0m \u001b[0;34m=\u001b[0m \u001b[0;34m'Jeronimo'\u001b[0m\u001b[0;34m,\u001b[0m \u001b[0mauthor_id\u001b[0m \u001b[0;34m=\u001b[0m \u001b[0;36m108\u001b[0m\u001b[0;34m)\u001b[0m\u001b[0;34m\u001b[0m\u001b[0;34m\u001b[0m\u001b[0m\n\u001b[1;32m      4\u001b[0m \u001b[0;34m\u001b[0m\u001b[0m\n\u001b[1;32m      5\u001b[0m \u001b[0;34m\u001b[0m\u001b[0m\n",
      "\u001b[0;31mNameError\u001b[0m: name 'revision' is not defined"
     ]
    }
   ],
   "source": [
    "from revision import Revision\n",
    "irl(revision)\n",
    "Revision(page_title ='Augsburg', page_id = 37787, revision_id = 231564 , author_name = 'Jeronimo', author_id = 108)\n",
    "\n",
    "\n",
    "\n"
   ]
  }
 ],
 "metadata": {
  "kernelspec": {
   "display_name": "Python (wikiproject)",
   "language": "python",
   "name": "wikiproject"
  },
  "language_info": {
   "codemirror_mode": {
    "name": "ipython",
    "version": 3
   },
   "file_extension": ".py",
   "mimetype": "text/x-python",
   "name": "python",
   "nbconvert_exporter": "python",
   "pygments_lexer": "ipython3",
   "version": "3.7.1"
  }
 },
 "nbformat": 4,
 "nbformat_minor": 2
}
